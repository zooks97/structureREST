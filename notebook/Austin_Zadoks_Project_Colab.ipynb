{
 "cells": [
  {
   "cell_type": "markdown",
   "metadata": {
    "colab_type": "text",
    "id": "XMQYTbWMQcDq"
   },
   "source": [
    "## TODO\n",
    " * REST + Flask\n",
    " * Pymatgen + Mongo\n",
    " * Flask + Mongo\n",
    " * List of descriptors\n",
    " * List of comparitors\n",
    " * Shape up the lit. review"
   ]
  },
  {
   "cell_type": "markdown",
   "metadata": {
    "colab_type": "text",
    "id": "Tp6qQimZNhtb"
   },
   "source": [
    "## Structure prototyping / description methods"
   ]
  },
  {
   "cell_type": "markdown",
   "metadata": {
    "colab_type": "text",
    "id": "ahLxmuZZTM2d"
   },
   "source": [
    "### Strukturbericht 1931"
   ]
  },
  {
   "cell_type": "markdown",
   "metadata": {
    "colab_type": "text",
    "id": "M--d4A8eTNNs"
   },
   "source": [
    "###  Herman-Mauguin (ICT) Space Group 1928, 1931, 1935"
   ]
  },
  {
   "cell_type": "markdown",
   "metadata": {
    "colab_type": "text",
    "id": "P1RSjmQxTNLE"
   },
   "source": [
    "### Pearson Symbol 1958"
   ]
  },
  {
   "cell_type": "markdown",
   "metadata": {
    "colab_type": "text",
    "id": "YFGm1gi5Uyn3"
   },
   "source": [
    "### Steinhardt Bond Orientational Order Parameter 1983"
   ]
  },
  {
   "cell_type": "markdown",
   "metadata": {
    "colab_type": "text",
    "id": "2yOvRf92TNQz"
   },
   "source": [
    "### Parthé Standardization 1984"
   ]
  },
  {
   "cell_type": "markdown",
   "metadata": {
    "colab_type": "text",
    "id": "QV691fHGULeI"
   },
   "source": [
    "### Lima De Faria Definitions of Structural Similarity 1990"
   ]
  },
  {
   "cell_type": "markdown",
   "metadata": {
    "colab_type": "text",
    "id": "vteYukZxULiP"
   },
   "source": [
    "### Bartók SOAP 2013"
   ]
  },
  {
   "cell_type": "markdown",
   "metadata": {
    "colab_type": "text",
    "id": "s6wiO6vTULlE"
   },
   "source": [
    "### Zimmermann 2017"
   ]
  },
  {
   "cell_type": "markdown",
   "metadata": {
    "colab_type": "text",
    "id": "3mdxL-pLULw8"
   },
   "source": [
    "## Databases"
   ]
  },
  {
   "cell_type": "markdown",
   "metadata": {
    "colab_type": "text",
    "id": "szKy6-TiULuP"
   },
   "source": [
    "### Pauling"
   ]
  },
  {
   "cell_type": "markdown",
   "metadata": {
    "colab_type": "text",
    "id": "oqYviok-ULsf"
   },
   "source": [
    "### ICSD"
   ]
  },
  {
   "cell_type": "markdown",
   "metadata": {
    "colab_type": "text",
    "id": "3iehvH0eULoY"
   },
   "source": [
    "### AFLOW Mehl 2017\n",
    "* Space Group\n",
    "* Pearson Symbol\n",
    "* Strukturbericht\n",
    "* Chemical Symbol\n",
    "* AFLOW Prototype Index"
   ]
  },
  {
   "cell_type": "markdown",
   "metadata": {
    "colab_type": "text",
    "id": "TV3ZhYfSVsGI"
   },
   "source": [
    "### Materials Project\n",
    "* Hermann Mauguin Space Group\n",
    "* Similarity with up to 5 other materials\n",
    "* 48x1 vector fingerprint $\\mathbf{v^{site}}$ calculated for each site using matminer (python)\n",
    "    * $q_n$ is the Steinhardt bond orientational order parameter of order $n$\n",
    "* structure fingerprint is a vector of the min, max, mean , std of each entry of the sites\n",
    "* structure is  \n",
    "* N. E. R. Zimmermann, M. K. Horton, A. Jain, M. Haranczyk, Front. Mater., 4, 34, (2017)\n",
    "* N. E. R. Zimmermann, A. Jain, in preparation (2018)"
   ]
  },
  {
   "cell_type": "markdown",
   "metadata": {
    "colab_type": "text",
    "id": "V-zHgEqbqZqn"
   },
   "source": [
    "# Literature"
   ]
  },
  {
   "cell_type": "markdown",
   "metadata": {
    "colab_type": "text",
    "id": "iR-G1warRBKF"
   },
   "source": [
    "### Niggli 1928"
   ]
  },
  {
   "cell_type": "markdown",
   "metadata": {
    "colab_type": "text",
    "id": "aFC-KoJKRBSf"
   },
   "source": [
    "### *Strukturbericht* 1931"
   ]
  },
  {
   "cell_type": "markdown",
   "metadata": {
    "colab_type": "text",
    "id": "oleJIHpqRBao"
   },
   "source": [
    "### Pearson 1958"
   ]
  },
  {
   "cell_type": "markdown",
   "metadata": {
    "colab_type": "text",
    "id": "vkierATJRBia"
   },
   "source": [
    "### Buerger 1960"
   ]
  },
  {
   "cell_type": "markdown",
   "metadata": {
    "colab_type": "text",
    "id": "hY7QxOC-RBpx"
   },
   "source": [
    "### Schwarzenbach 1963"
   ]
  },
  {
   "cell_type": "markdown",
   "metadata": {
    "colab_type": "text",
    "id": "KOz5zGAfRBwL"
   },
   "source": [
    "### Laves 1980"
   ]
  },
  {
   "cell_type": "markdown",
   "metadata": {
    "colab_type": "text",
    "id": "xOtaWmfRRB2w"
   },
   "source": [
    "### Steinhardt 1983\n",
    "\n",
    "***Bond-Orientational Order in Liquids and Glasses***\n",
    "\n",
    "Bond-orientational order in molecular dynamics simulations of supercooled liquids and in models of metallic glasses is studied. Quadratic and third-order invariants formed from bond spherical harmonics allow quantitative measures of cluster symmetries in these systems. A state with short-range translational order, but extended correlations in the orientations of particle clusters, starts to develop about 10% below the equilibrium melting temperature in a supercooled Lennard-Jones liquid. The order is predominantly icosahedral, although there is also a cubic component which we attribute to the periodic boundary conditions. Results are obtained for liquids cooled in an icosahedral pair potential as well. Only a modest amount of orientational order appears in a relaxed Finney dense-random-packing model. In contrast, we find essentially perfect icosahedral bond correlations in alternative \"amorphon\" cluster models of glass structure."
   ]
  },
  {
   "cell_type": "markdown",
   "metadata": {
    "colab_type": "text",
    "id": "iGyng6WiRB-L"
   },
   "source": [
    "### Parthé 1984\n",
    "\n",
    "***The Standardization of Inorganic Crystal-Structure Data***\n",
    "\n",
    "This paper describes a proposal for a standardized presentation of inorganic crystal-structure data with the aim to recognize identical or nearly identical structures from the similarity of the numerical values of the atom coordinates.\n",
    "\n",
    "* Previous work:\n",
    "    * Schwarzenbach 1963 set of rules for monoclinic and orthorhombic structures\n",
    "    * Niggli 1928 - unique description of a lattice via reduced set of basis vectors\n",
    "    * Buerger 1960 - \" \"\n",
    "\n",
    "* Different ways to describe a crystal structure in a standard Hermann-Mauguin space group\n",
    "    1. Shift of origin\n",
    "    2. Rotation\n",
    "    3. Inversion of vector triplet (or reflection of one vector while maintaining right-handedness)\n",
    "  \n",
    "  Considerations:\n",
    "    * Cheshire group / Euclidean normalizer\n",
    "        * Symmetry of arrangement of symmetry elements\n",
    "    * Chirality\n",
    "    * Centrosymmetry and Polarity\n",
    "    * Calculating non-redundant *xyz* triplets and possible origins using space group and cheshire group\n",
    "  \n",
    "* Proposal for structure data standardization\n",
    "    * Choice of unit cell and space group (ITC / Niggli)\n",
    "    * Choice of coordinate triplet for all atoms\n",
    "        * Permitted origins\n",
    "        * Permitted rotations of coordinate system\n",
    "        * Enantiomorphic structure representation\n",
    "    * Ordering and renumbering of atoms\n",
    "\n",
    "\n",
    "* Benefits and disadvantages\n",
    "    * Benefits\n",
    "        * Unique descriptor of every structuer\n",
    "        * Allows trivial recognition of isotypy by inspection\n",
    "        * Allows unequivocal description of unique structures\n",
    "    * Disadvantages\n",
    "        * Slight deformation masks similarity when standardized"
   ]
  },
  {
   "cell_type": "markdown",
   "metadata": {
    "colab_type": "text",
    "id": "e1iyhVx3RCEZ"
   },
   "source": [
    "### Gelato 1987\n",
    "\n",
    "***STRUCTURE TIDY***\n",
    "*A Computer Program to Standardize Crystal Structure Data*\n",
    "\n",
    "A computer program has been written for the purpose of standardizing crystal structure data according to rules formulated by Parthé & Gelato 1984. From input consisting of space-group symbol, unit-cell parameters and positional coordinates of the atoms, a reordered and renumbered list of standardized atom coordinates is obtained. The space group is now in the standard setting and the cell is reduced if applicable. The origin and the orientation of the coordinate system have been chosen in such a way as to minimize the standardization parameter $\\Gamma$. A second standardization parameter CG, based on the position of the centre of gravity of the atoms in the asymmetric unit, is introduced. The Wyckoff sequence, obtained from the standardized structure data, can be used\n",
    "to recognize structures which are isopointal. An example of the application of STRUCTURE TIDY is given."
   ]
  },
  {
   "cell_type": "markdown",
   "metadata": {
    "colab_type": "text",
    "id": "gBWNj3YGRCK9"
   },
   "source": [
    "### Lima de Faria 1990\n",
    "\n",
    "***Nomenclature of Inorganic Structure Types***\n",
    "\n",
    "Different degrees of similarity between inorganic crystal structures are defined concisely and examples are presented that illustrate their practical application. A notation giving the coordination of atoms is presented together with some basic rules for developing crystal-chemical formulae and the *Bauverband* description of inorganic structure types.\n",
    "\n",
    "* Terms of similarity\n",
    "    * Isopointal\n",
    "        * Same space group type or enantiomorphic spacegroup types\n",
    "        * Atomic positions are the same after standardization\n",
    "            * i.e. all Wyckoff positions and occupations are identical\n",
    "        * Structures may need to have origin shifted, be rotated, or be permuted\n",
    "            * See affine normalizers in ITC or Parthé and Gelato 1984 and Gelato and Parthé 1987\n",
    "    * Isoconfigurational\n",
    "        * Isopointal\n",
    "        * For all corresponding Wychoff positions\n",
    "            * Similar crystallographic point configurations (orbits)\n",
    "            * Similar geometrical interrelationships\n",
    "            * Note: similarity described later\n",
    "    * Crystal-Chemically Isotypic (Isostructural)\n",
    "        * Isoconfigurational\n",
    "        * Corresponding atoms and bonds (interactions) are physically/chemically similar\n",
    "    * Type and Antitype\n",
    "        * Isoconfigurational\n",
    "        * Some important physical/chemical characteristics of corresponding atoms are interchanged (reversed)\n",
    "    * Homeotypic **(one or more are relaxed from Isotypism)** (narrow Laves 1980)\n",
    "        * Identical or enantiomorphic space group types allowing for\n",
    "            * group-subgroup relationships\n",
    "            * group-supergroup relationships\n",
    "        * Limitations imposed on the similarity of geometric properties\n",
    "            * axial ratios\n",
    "            * interaxial angles\n",
    "            * values of adjustable positional parameters\n",
    "            * coordination of corresponding atoms\n",
    "        * Site occupancy limits\n",
    "            * allow given sites to be occupied by different atomic species\n",
    "    * Polytypic\n",
    "        * See Guinier *et al.* 1984\n",
    "    * Interstitial (or '*stuffed*')\n",
    "        * Unoccupied interstitial sites are progressively filled\n",
    "    * Recombination\n",
    "        * Topologically similar parent structures are periodically divided\n",
    "            * blocks (finite)\n",
    "            * rods (infinite in one direction)\n",
    "            * slabs (infinite in two directions)\n",
    "        * e.g.\n",
    "            * unit cell twinning\n",
    "            * crystallographic shear planes\n",
    "            * intergrowth of blocks, rods, or slabs of different structure types\n",
    "            * periodic out-of-phase or antiphase boundaries\n",
    "            * rotation of rods (blocks)\n",
    "            * vernier principle (Makovicky and Hyde 1981)\n"
   ]
  },
  {
   "cell_type": "markdown",
   "metadata": {
    "colab_type": "text",
    "id": "cIl9slGRRCRi"
   },
   "source": [
    "### Parthé 1993\n",
    "\n",
    "***Standardization of Crystal Structure Data as an Aid to the Classification of Crystal Structure Types***\n",
    "\n",
    "Owing to the different ways in which crystal structures may be described, isotypic compounds are often not identified as such. To remedy this situation, crystal structure data can be standardized by means of the STRUCTURE TIDY program. In the standardized data of isotypic structures, occupied sites have the same Wyckoff representation. This makes it possible to use the Wyckoff sequence (the letters of occupied Wyckoff sites) to classify crystal structure types. This classification is much finer than the previously used classification based on the Pearson code and is of great help if one wants to know whether a particular atom arrangement is already known. The standardization has enabled us not only to demonstrate new cases of isotypism, but also to discover structural relationships between different structure types with the same space group, for example substitution, vacancy or filled-in variants.\n",
    "\n",
    "* Definition of isotypism\n",
    "    * Configuration isotypism\n",
    "        * same stoichiometry (fully ordered structures)\n",
    "        * same space group\n",
    "        * same Wyckoff sites\n",
    "        * same or similary positional (x, y, z)\n",
    "        * same or similar axial ratios (c/a, a/b, b/c)\n",
    "        * same or similar cell angles ($\\alpha, \\beta, \\gamma$)\n",
    "\n",
    "First published structure type compilation *Strukturberichte* \n",
    "Strukturberichte, suppl, to Z. Kristallogr., Vols. 1-7, Akademische Verlagsgesellschaft, Leipzig, 1931-1943.\n",
    "\n",
    "Review of standardization procedure from Parthé 1984\n",
    "\n",
    "* The same or similary Wyckoff sequence as an indication of possible structural relationships\n",
    "    * in standardized description, all isotypic structures have the same Wyckoff sequence\n",
    "    * subdivision of isopointal structures requires detailed study\n",
    "        * roughly approximated by analysis of $\\gamma$ and CG values from STRUCTURE TIDY\n",
    "     * order according to space group and Wyckoff sequence\n",
    "        * substitution derivatives w/ same sg and ws are near\n",
    "     * identical classification codes + cell param. + atom coord. must be used"
   ]
  },
  {
   "cell_type": "markdown",
   "metadata": {
    "colab_type": "text",
    "id": "ptdSsnMnow7W"
   },
   "source": [
    "### Blatov 2006\n",
    "***A Method for Hierarchical Comparative Analysis of Crystal Structures***\n",
    "A geometrical-topological description of crystal structure as a three-dimen- sional graph with coloured nodes, weighted and coloured edges is used to generate a hierarchical sequence of the structure representations. The solid angles of Voronoi–Dirichlet polyhedra of atoms are used as the edge weights and the nodes and edges are coloured according to chemical reasons. Two operations are defined to derive the representations: contracting an atom to other atoms keeping the local connectivity, and removing an atom together with all its bonds. The atoms of the crystal structure are called origin, removed, contracted or target according to their roles in the operations. Each structure representation is described as a labelled quotient graph and determined by (i) colours of the graph nodes and edges, (ii) some level for edge weights, and (iii) an arrangement of atoms according to their roles. The computer enumeration and topological comparative analysis of all representations for crystal structures of any composition and complexity are implemented into the TOPOS program package. The advantages of the method are shown by the analysis of typical inorganic compounds and a molecular packing.\n",
    "\n",
    "\n",
    "\n",
    "1. Color atoms by species (or other considerations)\n",
    "2. Generate Voronoi solids\n",
    "3. Draw colored coordination lines based on interaction type\n",
    "\n",
    "    a. If the coordination line does not pass through its corresponding voronoi surface, ignore it\n",
    "4. \n",
    "\n"
   ]
  },
  {
   "cell_type": "markdown",
   "metadata": {
    "colab_type": "text",
    "id": "xr0qADqNSBRb"
   },
   "source": [
    "### Allman 2007\n",
    "\n",
    "***The Introduction of Structure Types into the Inorganic Crystal Structure Database ICSD***\n",
    "\n",
    "Both the approach used and the progress made in the assignment of structure types to the crystal structures contained in the ICSD database are reported. Extending earlier work, an hierarchical set of criteria for the separation of isopointal structures into isoconfigurational structure types is used. It is shown how these criteria, which include the space group (number), Wyckoff sequence and Pearson symbol, *c/a* ratio, $\\beta$ ranges, ANX formulae and, in certain cases, the necessary elements and forbidden elements, may be used to uniquely identify the representative structure types of the compounds contained in the ICSD database."
   ]
  },
  {
   "cell_type": "markdown",
   "metadata": {
    "colab_type": "text",
    "id": "RVv0F8iuSBad"
   },
   "source": [
    "### Behler 2007\n",
    "\n",
    "***Generalized Neural-Network Representation of High-Dimensional Potential-Energy Surfaces***\n",
    "\n",
    "The accurate description of chemical processes often requires the use of computationally demanding methods like density-functional theory (DFT), making long simulations of large systems unfeasible. In this Letter we introduce a new kind of neural-network representation of DFT potential-energy surfaces, which provides the energy and forces as a function of all atomic positions in systems of arbitrary size and is several orders of magnitude faster than DFT. The high accuracy of the method is demonstrated for bulk silicon and compared with empirical potentials and DFT. The method is general and can be applied to all types of periodic and nonperiodic systems.\n"
   ]
  },
  {
   "cell_type": "markdown",
   "metadata": {
    "colab_type": "text",
    "id": "jQfu8nTLSBdi"
   },
   "source": [
    "### Kondor 2007\n",
    "\n",
    "***A Novel Set of Rotationally and Translationally Invariant Features for Images Based on the Non-Commutative Bispectrum***\n",
    "\n",
    "We propose a new set of rotationally and translationally invariant features for image or pattern recognition and classification. The new features are cubic polynomials in the pixel intensities and provide a richer representation of the original image than most existing systems of invariants. Our construction is based on the generalization of the concept of bispectrum to the three-dimensional rotation group SO(3), and a projection of the image onto the sphere."
   ]
  },
  {
   "cell_type": "markdown",
   "metadata": {
    "colab_type": "text",
    "id": "QRPsosEeSBf2"
   },
   "source": [
    "### Sanville 2008\n",
    "\n",
    "***Silicon Potentials using Density Functional Theory-Fitted Neural Networks***\n",
    "\n",
    "We present a method for fitting neural networks to geometric and energetic datasets. We then apply this method by fitting a neural network to a set of data generated using the local density approximation for systems composed entirely of silicon. In order to generate atomic potential energy data, we use the Bader analysis scheme to partition the total system energy among the constituent atoms. We then demonstrate the transferability of the neural network potential by fitting to various bulk, surface, and cluster systems.*"
   ]
  },
  {
   "cell_type": "markdown",
   "metadata": {
    "colab_type": "text",
    "id": "YlJgkC3-SBix"
   },
   "source": [
    "### Handley 2009\n",
    "\n",
    "***Dynamically Polarizable Water Potential Based on Multipole Moments Trained by Machine Learning***\n",
    "\n",
    "It is widely accepted that correctly accounting for polarization within simulations involving water is critical if the structural, dynamic, and thermodynamic properties of such systems are to be accurately reproduced. We propose a novel potential for the water dimer, trimer, tetramer, pentamer, and hexamer that includes polarization explicitly, for use in molecular dynamics simulations. Using thousands of dimer, trimer, tetramer, pentamer, and hexamer clusters sampled from a molecular dynamics simulation lacking polarization, we train (artificial) neural networks (NNs) to predict the atomic multipole moments of a central water molecule. The input of the neural nets consists solely of the coordinates of the water molecules surrounding the central water. The multipole moments are calculated by the atomic partitioning defined by quantum chemical topology (QCT). This method gives a dynamic multipolar representation of the water electron density without explicit polarizabilities. Instead, the required knowledge is stored in the neural net. Furthermore, there is no need to perform iterative calculations to self- consistency during the simulation nor is there a need include damping terms in order to avoid a polarization catastrophe."
   ]
  },
  {
   "cell_type": "markdown",
   "metadata": {
    "colab_type": "text",
    "id": "RvOvM7vvSBmF"
   },
   "source": [
    "### Bartók 2010\n",
    "\n",
    "***Gaussian Approximation Potentials: The Accuracy of Quantum Mechanics, without the Electrons***\n",
    "\n",
    "We introduce a class of interatomic potential models that can be automatically generated from data consisting of the energies and forces experienced by atoms, as derived from quantum mechanical calculations. The models do not have a fixed functional form and hence are capable of modeling complex potential energy landscapes. They are systematically improvable with more data. We apply the method to bulk crystals, and test it by calculating properties at high temperatures. Using the interatomic potential to generate the long molecular dynamics trajectories required for such calculations saves orders of magnitude in computational cost."
   ]
  },
  {
   "cell_type": "markdown",
   "metadata": {
    "colab_type": "text",
    "id": "1ib2ddZqSBsh"
   },
   "source": [
    "### Behler 2011\n",
    "\n",
    "***Atom-Centered Symmetry Functions for Constructing High-Dimensional Neural Network Potentials***\n",
    "\n",
    "Neural networks offer an unbiased and numerically very accurate approach to represent highdimensional ab initio potential-energy surfaces. Once constructed, neural network potentials can provide the energies and forces many orders of magnitude faster than electronic structure calculations, and thus enable molecular dynamics simulations of large systems. However, Cartesian coordinates are not a good choice to represent the atomic positions, and a transformation to symmetry functions is required. Using simple benchmark systems, the properties of several types of symmetry functions suitable for the construction of high-dimensional neural network potential-energy surfaces are discussed in detail. The symmetry functions are general and can be applied to all types of systems such as molecules, crystalline and amorphous solids, and liquids."
   ]
  },
  {
   "cell_type": "markdown",
   "metadata": {
    "colab_type": "text",
    "id": "0eeWpQPqSBvP"
   },
   "source": [
    "### Rupp 2012\n",
    "\n",
    "***Fast and Accurate Modeling of Molecular Atomization Energies with Machine Learning***\n",
    "\n",
    "We introduce a machine learning model to predict atomization energies of a diverse set of organic molecules, based on nuclear charges and atomic positions only. The problem of solving the molecular Schrödinger equation is mapped onto a nonlinear statistical regression problem of reduced complexity. Regression models are trained on and compared to atomization energies computed with hybrid density- functional theory. Cross validation over more than seven thousand organic molecules yields a mean absolute error of ~10 kcal/mol. Applicability is demonstrated for the prediction of molecular atomization potential energy curves."
   ]
  },
  {
   "cell_type": "markdown",
   "metadata": {
    "colab_type": "text",
    "id": "gc2DH06OSBx-"
   },
   "source": [
    "### Bartók et al. 2013\n",
    "\n",
    "***On Representing Chemical Environments***\n",
    "\n",
    "We review some recently published methods to represent atomic neighborhood environments, and analyze their relative merits in terms of their faithfulness and suitability for fitting potential energy surfaces. The crucial properties that such representations (sometimes called descriptors) must have are differentiability with respect to moving the atoms and invariance to the basic symmetries of physics: rotation, reflection, translation, and permutation of atoms of the same species. We demonstrate that certain widely used descriptors that initially look quite different are specific cases of a general approach, in which a finite set of basis functions with increasing angular wave numbers are used to expand the atomic neighborhood density function. Using the example system of small clusters, we quantitatively show that this expansion needs to be carried to higher and higher wave numbers as the number of neighbors increases in order to obtain a faithful representation, and that variants of the descriptors converge at very different rates. We also propose an altogether different approach, called Smooth Overlap of Atomic Positions, that sidesteps these difficulties by directly defining the similarity between any two neighborhood environments, and show that it is still closely connected to the invariant descriptors. We test the performance of the various representations by fitting models to the potential energy surface of small silicon clusters and the bulk crystal.\n",
    "\n",
    "* Goal: accurately and uniquely represent atomic environments\n",
    "    * typical implementation: fingerprint\n",
    "    * often used for constructing interatomic potentials and fitting potential energy surfaces (PES)\n",
    "    * completeness\n",
    "        * complete: system of invariant descriptors q1, 12, ... qm which uniqely determines atomic environment up to symmetries\n",
    "            * one-to-one mapping (bijection) between different atomic environments and the invariant tuples comprising the representation\n",
    "        * overcomplete: contains spurious descriptors i.e. a proper subset (q1, q2, ..., qm) is complete\n",
    "            * assigns potentially many distinct descriptors to a structure\n",
    "            * guarantees different environments will never have identical descriptors\n",
    "            * function relating representations and structures is a surjection\n",
    "    * usually, PESs of small molecules are fitted using first-principles calculations\n",
    "        * list of pairwise distances\n",
    "        * transformed (reciprocal, exponential) interatomic distances\n",
    "        * permuting atoms gives (seemingly) new config.\n",
    "        * i.e. crucial symmetries missing\n",
    "    * Braams and Bowman\n",
    "        * polynomials of pairwise distances\n",
    "        * invariant to permuation of identical atoms\n",
    "        * computer code to generate for up to 10 atoms\n",
    "        * number ot atoms must stay constant\n",
    "    * solids / large clusters\n",
    "        * number of atoms allowed to vary\n",
    "        * maintain continuous and differentiable descriptor\n",
    "        * Behler and Parrinello\n",
    "            * symmetry functions\n",
    "            * Si, Na, ZnO, H2O, ...\n",
    "        * Bartok et al\n",
    "            * bispectrum to fit multi-body potential\n",
    "            * crystalline solids, defetcs in diamond\n",
    "        * Rupp et al\n",
    "            * ordered eigenvalues of the coulomb matrix\n",
    "            * fit atomization energies for 7000+ small organic molecules\n",
    "    * disentangle from first-principles and PES fitting, focus on descriptor\n",
    "        * bond-order parameters by Steinhardt et al\n",
    "        * show they are a subset of invariants called the bispectrum\n",
    "        * bispectrum formally infinite\n",
    "            * overcomplete\n",
    "            * truncate for chosen precision\n",
    "        * relate bispectrum to Behler et al\n",
    "* PES fitting\n",
    "    * interest in nonparametric PES (i.e. no closed form)\n",
    "    * calculate a set of training configurations\n",
    "    * fit $E_{short} = \\sum_n \\epsilon(q_1^{(n)},...,q_M^{(n)})$\n",
    "    * how to fit $\\epsilon$ ?\n",
    "        * linear fit\n",
    "        * Behler and Parrniello -> artificial neural networks\n",
    "        * Bartók et al. -> Gaussian Approximation Potentials\n",
    "        * all produce $\\epsilon(\\mathbf{q}) = \\sum_{k=1}^N \\alpha_k K(\\mathbf{q},\\mathbf{q}^{(k)})$\n",
    "            * N number of training configs indexed by k\n",
    "            * vector $\\mathbf{\\alpha}$ fitted\n",
    "            * K is a fixed nonlinear kernel function\n",
    "                * K is positive definite $K(\\mathbf{q}, \\mathbf{q'}) = K(\\mathbf{q'}, \\mathbf{q})$\n",
    "                * for nonzero $\\mathbf{\\alpha}$, $\\sum_k \\sum_l \\alpha_k \\alpha_l K(\\mathbf{q}^{(k)}, \\mathbf{q}^{(l)}) > 0$\n",
    "                * Rasmussen and Williams present some kernels\n",
    "            \n",
    "* Distance metric (non-differentiable :( )\n",
    "    * TODO: summarize\n",
    "* SOAP (continuous and differentiable!)\n",
    "    * TODO: summarize"
   ]
  },
  {
   "cell_type": "markdown",
   "metadata": {
    "colab_type": "text",
    "id": "A5gSunGZSB1L"
   },
   "source": [
    "### Yang 2014\n",
    "\n",
    "***Proposed Definition of Crystal Substructure and Substructural Similarity***\n",
    "\n",
    "There is a clear need for a practical and mathematically rigorous description of local structure in inorganic compounds so that structures and chemistries can be easily compared across large data sets. Here a method for decomposing crystal structures into substructures is given, and a similarity function between those substructures is defined. The similarity function is based on both geometric and chemical similarity. This construction allows for large-scale data mining of substructural properties, and the analysis of substructures and void spaces within crystal structures. The method is validated via the prediction of Li-ion intercalation sites for the oxides. Tested on databases of known Li-ion-containing oxides, the method reproduces all Li-ion sites in an oxide with a maximum of 4 incorrect guesses 80% of the time."
   ]
  },
  {
   "cell_type": "markdown",
   "metadata": {
    "colab_type": "text",
    "id": "_0SaUBT2SoIl"
   },
   "source": [
    "### De et al. 2016\n",
    "\n",
    "***Comparing Molecules and Solids Across Structural and Alchemical Space***\n",
    "\n",
    "Evaluating the (dis)similarity of crystalline, disordered and molecular compounds is a critical step in the development of algorithms to navigate automatically the configuration space of complex materials. For instance, a structural similarity metric is crucial for classifying structures, searching chemical space for better compounds and materials, and driving the next generation of machine-learning techniques for predicting the stability and properties of molecules and materials. In the last few years several strategies have been designed to compare atomic coordination environments. In particular, the smooth overlap of atomic positions (SOAPs) has emerged as an elegant framework to obtain translation, rotation and permutation-invariant descriptors of groups of atoms, underlying the development of various classes of machine-learned inter-atomic potentials. Here we discuss how one can combine such local descriptors using a regularized entropy match (REMatch) approach to describe the similarity of both whole molecular and bulk periodic structures, introducing powerful metrics that enable the navigation of alchemical and structural complexities within a unified framework. Furthermore, using this kernel and a ridge regression method we can predict atomization energies for a database of small organic molecules with a mean absolute error below 1 kcal mol$^-1$, reaching an important milestone in the application of machine-learning techniques for the evaluation of molecular properties.\n"
   ]
  },
  {
   "cell_type": "markdown",
   "metadata": {
    "colab_type": "text",
    "id": "BsGTjwdnSoTF"
   },
   "source": [
    "### Zhu 2016\n",
    "\n",
    "***A Fingerprint Based Metric for Measuring Similarities of Crystalline Structures***\n",
    "\n",
    "Measuring similarities/dissimilarities between atomic structures is important for the exploration of potential energy landscapes. However, the cell vectors together with the coordinates of the atoms, which are generally used to describe periodic systems, are quantities not directly suitable as fingerprints to distinguish structures. Based on a characterization of the local environment of all atoms in a cell, we introduce crystal fingerprints that can be calculated easily and define configurational distances between crystalline structures that satisfy the mathematical properties of a metric. This distance between two configurations is a measure of their similarity/dissimilarity and it allows in particular to distinguish structures. The new method can be a useful tool within various energy landscape exploration schemes, such as minima hopping, random search, swarm intelligence algorithms, andhigh-throughputscreenings."
   ]
  },
  {
   "cell_type": "markdown",
   "metadata": {
    "colab_type": "text",
    "id": "loCXUFztSoY4"
   },
   "source": [
    "### Mehl 2017\n",
    "\n",
    "***The AFLOW Library of Crystallographic Prototypes: Part 1***\n",
    "\n",
    "An easily available resource of common crystal structures is essential for researchers, teachers, and students. For many years this was provided by the U.S. Naval Research Laboratory’s *Crystal Lattice Structures* web page, which contained nearly 300 crystal structures, including a majority of those which were given Strukturbericht designations. This article presents the updated version of the database, now including 288 standardized structures in 92 space groups. Similar to what was available on the web page before, we present a complete description of each structure, including the formulas for the primitive vectors, all of the basis vectors, and the AFLOW commands to generate the standardized cells. We also present a brief discussion of crystal systems, space groups, primitive and conventional lattices, Wyckoff positions, Pearson symbols and *Strukturbericht* designations."
   ]
  },
  {
   "cell_type": "markdown",
   "metadata": {
    "colab_type": "text",
    "id": "VilMD19cSofR"
   },
   "source": [
    "### Su 2017\n",
    "\n",
    "***Construction of Crystal Structure Prototype Database: Methods and Applications***\n",
    "\n",
    "Crystal structure prototype data have become a useful source of information for materials discovery in the fields of crystallography, chemistry, physics, and materials science. This\n",
    "work reports the development of a robust and efficient method for assessing the similarity of structures on the basis of their interatomic distances. Using this method, we proposed a simple and unambiguous definition of crystal structure prototype based on hierarchical clustering theory, and constructed the crystal structure prototype database (CSPD) by filtering the known crystallographic structures in a database. With similar method, a program structure prototype analysis package (SPAP) was developed to remove similar structures in CALYPSO prediction results and extract predicted low energy structures for a separate theoretical structure database. A series of statistics describing the distribution of crystal structure prototypes in the CSPD was compiled to provide an important insight for structure prediction and high-throughput calculations. Illustrative examples of the application of the proposed database are given, including the generation of initial structures for structure prediction and determination of the prototype structure in databases. These examples demonstrate the CSPD to be a generally applicable and useful tool for materials discovery."
   ]
  },
  {
   "cell_type": "code",
   "execution_count": null,
   "metadata": {},
   "outputs": [],
   "source": []
  }
 ],
 "metadata": {
  "colab": {
   "collapsed_sections": [],
   "default_view": {},
   "name": "Austin Zadoks Project Colab",
   "provenance": [],
   "version": "0.3.2",
   "views": {}
  },
  "kernelspec": {
   "display_name": "Python 3",
   "language": "python",
   "name": "python3"
  },
  "language_info": {
   "codemirror_mode": {
    "name": "ipython",
    "version": 2
   },
   "file_extension": ".py",
   "mimetype": "text/x-python",
   "name": "python",
   "nbconvert_exporter": "python",
   "pygments_lexer": "ipython2",
   "version": "2.7.15"
  }
 },
 "nbformat": 4,
 "nbformat_minor": 1
}
