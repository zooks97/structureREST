{
 "cells": [
  {
   "cell_type": "code",
   "execution_count": 1,
   "metadata": {},
   "outputs": [],
   "source": [
    "import pymatgen\n",
    "import pymatgen.symmetry.analyzer\n",
    "def wyckoff_fingerprint(structure: pymatgen.core.Structure) -> str:\n",
    "    SYMPREC = 1e-5\n",
    "    ANGLE_TOLERANCE = -1\n",
    "    spacegroup_analyzer = pymatgen.symmetry.analyzer.SpacegroupAnalyzer(structure,\n",
    "                                                                          symprec=SYMPREC,\n",
    "                                                                          angle_tolerance=ANGLE_TOLERANCE)\n",
    "    return '_'.join([str(spacegroup_analyzer.get_space_group_number())] + \n",
    "                    spacegroup_analyzer.get_symmetry_dataset()['wyckoffs'])"
   ]
  },
  {
   "cell_type": "code",
   "execution_count": 2,
   "metadata": {},
   "outputs": [
    {
     "data": {
      "text/plain": [
       "Structure Summary\n",
       "Lattice\n",
       "    abc : 7.3409526 7.34095259 7.3409526\n",
       " angles : 25.103119069999998 25.103119139999997 25.103119100000026\n",
       " volume : 62.6493334321811\n",
       "      A : 3.11438974864272 0.0 6.64756809434818\n",
       "      B : 1.4800076654772434 2.7402555974884333 6.647568089097668\n",
       "      C : 0.0 0.0 7.3409526\n",
       "PeriodicSite: Mo (4.5934, 2.7396, 20.6315) [0.9998, 0.9998, 0.9998]\n",
       "PeriodicSite: S (1.8678, 1.1140, 8.3893) [0.4065, 0.4065, 0.4065]\n",
       "PeriodicSite: S (1.1931, 0.7116, 5.3589) [0.2597, 0.2597, 0.2597]"
      ]
     },
     "metadata": {},
     "output_type": "display_data"
    },
    {
     "data": {
      "text/plain": [
       "Structure Summary\n",
       "Lattice\n",
       "    abc : 7.340952596229539 7.340952596229539 7.340952596229537\n",
       " angles : 25.103119080726938 25.103119080726938 25.10311908072695\n",
       " volume : 62.649333313694065\n",
       "      A : 7.1655100055576755 -1.5953217168778369 0.0\n",
       "      B : 7.1655100055576755 1.5953217168778369 0.0\n",
       "      C : 6.810329232888587 0.0 2.740255601171602\n",
       "PeriodicSite: Mo (0.0047, -0.0000, 0.0006) [0.0002, 0.0002, 0.0002]\n",
       "PeriodicSite: S (12.5467, 0.0000, 1.6262) [0.5935, 0.5935, 0.5935]\n",
       "PeriodicSite: S (15.6512, -0.0000, 2.0286) [0.7403, 0.7403, 0.7403]"
      ]
     },
     "metadata": {},
     "output_type": "display_data"
    },
    {
     "data": {
      "text/plain": [
       "'160_a_a_a'"
      ]
     },
     "metadata": {},
     "output_type": "display_data"
    },
    {
     "name": "stdout",
     "output_type": "stream",
     "text": [
      "********************************************************************************\n"
     ]
    },
    {
     "data": {
      "text/plain": [
       "Structure Summary\n",
       "Lattice\n",
       "    abc : 3.19064344 3.1906434400000006 21.31819994\n",
       " angles : 90.0 90.0 119.99999999999999\n",
       " volume : 187.9480006902036\n",
       "      A : 3.19064344 0.0 1.95370563800825e-16\n",
       "      B : -1.5953217199999994 2.763178273458171 1.95370563800825e-16\n",
       "      C : 0.0 0.0 21.31819994\n",
       "PeriodicSite: Mo (1.5953, 0.9211, 7.1013) [0.6667, 0.3333, 0.3331]\n",
       "PeriodicSite: Mo (-0.0000, 1.8421, 14.2074) [0.3333, 0.6667, 0.6664]\n",
       "PeriodicSite: Mo (0.0000, 0.0000, 21.3134) [0.0000, 0.0000, 0.9998]\n",
       "PeriodicSite: S (-0.0000, 1.8421, 1.5605) [0.3333, 0.6667, 0.0732]\n",
       "PeriodicSite: S (0.0000, 0.0000, 5.5361) [0.0000, 0.0000, 0.2597]\n",
       "PeriodicSite: S (0.0000, 0.0000, 8.6666) [0.0000, 0.0000, 0.4065]\n",
       "PeriodicSite: S (1.5953, 0.9211, 12.6421) [0.6667, 0.3333, 0.5930]\n",
       "PeriodicSite: S (1.5953, 0.9211, 15.7727) [0.6667, 0.3333, 0.7399]\n",
       "PeriodicSite: S (-0.0000, 1.8421, 19.7482) [0.3333, 0.6667, 0.9264]"
      ]
     },
     "metadata": {},
     "output_type": "display_data"
    },
    {
     "data": {
      "text/plain": [
       "Structure Summary\n",
       "Lattice\n",
       "    abc : 7.3409525976270125 7.3409525976270125 7.3409525976270125\n",
       " angles : 25.10311912580013 25.10311912580013 25.103119125800145\n",
       " volume : 62.649333563401186\n",
       "      A : 7.16551000629425 -1.5953217200000003 0.0\n",
       "      B : 7.16551000629425 1.5953217200000003 0.0\n",
       "      C : 6.810329232271443 0.0 2.7402556064491197\n",
       "PeriodicSite: Mo (21.1366, -0.0000, 2.7396) [0.9998, 0.9998, 0.9998]\n",
       "PeriodicSite: S (8.5947, -0.0000, 1.1140) [0.4065, 0.4065, 0.4065]\n",
       "PeriodicSite: S (5.4901, 0.0000, 0.7116) [0.2597, 0.2597, 0.2597]"
      ]
     },
     "metadata": {},
     "output_type": "display_data"
    },
    {
     "data": {
      "text/plain": [
       "'160_a_a_a'"
      ]
     },
     "metadata": {},
     "output_type": "display_data"
    },
    {
     "name": "stdout",
     "output_type": "stream",
     "text": [
      "********************************************************************************\n"
     ]
    },
    {
     "data": {
      "text/plain": [
       "Structure Summary\n",
       "Lattice\n",
       "    abc : 7.3409526 7.3409526 7.3409526\n",
       " angles : 25.10311911999998 25.10311911999998 25.103119119999967\n",
       " volume : 62.64933359662721\n",
       "      A : 3.1143897463222805 0.0 6.647568095435307\n",
       "      B : 1.4800076695142357 2.7402556067229202 6.647568095435307\n",
       "      C : 0.0 0.0 7.3409526\n",
       "PeriodicSite: Mo (4.5934, 2.7396, 20.6315) [0.9998, 0.9998, 0.9998]\n",
       "PeriodicSite: S (1.8678, 1.1140, 8.3893) [0.4065, 0.4065, 0.4065]\n",
       "PeriodicSite: S (1.1931, 0.7116, 5.3589) [0.2597, 0.2597, 0.2597]"
      ]
     },
     "metadata": {},
     "output_type": "display_data"
    },
    {
     "data": {
      "text/plain": [
       "Structure Summary\n",
       "Lattice\n",
       "    abc : 7.340952599999999 7.340952599999999 7.340952599999999\n",
       " angles : 25.10311911999995 25.10311911999995 25.10311911999995\n",
       " volume : 62.64933359662712\n",
       "      A : 7.165510008691273 -1.5953217201530048 0.0\n",
       "      B : 7.165510008691273 1.5953217201530048 0.0\n",
       "      C : 6.810329234719153 0.0 2.7402556067229185\n",
       "PeriodicSite: Mo (0.0047, -0.0000, 0.0006) [0.0002, 0.0002, 0.0002]\n",
       "PeriodicSite: S (12.5467, -0.0000, 1.6262) [0.5935, 0.5935, 0.5935]\n",
       "PeriodicSite: S (15.6512, 0.0000, 2.0286) [0.7403, 0.7403, 0.7403]"
      ]
     },
     "metadata": {},
     "output_type": "display_data"
    },
    {
     "data": {
      "text/plain": [
       "'160_a_a_a'"
      ]
     },
     "metadata": {},
     "output_type": "display_data"
    },
    {
     "name": "stdout",
     "output_type": "stream",
     "text": [
      "********************************************************************************\n"
     ]
    }
   ],
   "source": [
    "import pymatgen.io.cif\n",
    "import pymatgen.symmetry\n",
    "import pymatgen.symmetry.analyzer\n",
    "\n",
    "SYMPREC = 1e-3\n",
    "ANGLE_TOLERANCE = 5\n",
    "\n",
    "cifs = ['../data/MoS2_mp-1434_computed.cif',\n",
    "        '../data/MoS2_mp-1434_conventional_standard.cif',\n",
    "        '../data/MoS2_mp-1434_primitive.cif']\n",
    "structures = []\n",
    "for cif in cifs:\n",
    "    structures += pymatgen.io.cif.CifParser(cif).get_structures(primitive=False)\n",
    "    \n",
    "for structure in structures:\n",
    "    sa = pymatgen.symmetry.analyzer.SpacegroupAnalyzer(structure,\n",
    "                                                       symprec=SYMPREC,\n",
    "                                                       angle_tolerance=ANGLE_TOLERANCE) # StructureAnalyzer\n",
    "    pss = sa.get_primitive_standard_structure() # primitive standard structure\n",
    "    wf = wyckoff_fingerprint(pss) # Wyckoff fingerprint\n",
    "    display(structure, pss, wf)\n",
    "    print(''.join(['*']*80))"
   ]
  },
  {
   "cell_type": "code",
   "execution_count": null,
   "metadata": {},
   "outputs": [],
   "source": []
  }
 ],
 "metadata": {
  "kernelspec": {
   "display_name": "Python 3",
   "language": "python",
   "name": "python3"
  },
  "language_info": {
   "codemirror_mode": {
    "name": "ipython",
    "version": 3
   },
   "file_extension": ".py",
   "mimetype": "text/x-python",
   "name": "python",
   "nbconvert_exporter": "python",
   "pygments_lexer": "ipython3",
   "version": "3.6.5"
  }
 },
 "nbformat": 4,
 "nbformat_minor": 2
}
