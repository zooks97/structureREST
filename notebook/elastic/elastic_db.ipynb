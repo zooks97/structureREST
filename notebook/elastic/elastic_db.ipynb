{
 "cells": [
  {
   "cell_type": "code",
   "execution_count": null,
   "metadata": {},
   "outputs": [],
   "source": [
    "from sys import path\n",
    "path.insert(0, '/home/azadoks/git/glosim2/')\n",
    "path.insert(0, '/home/azadoks/git/structureREST/zocrys/lib/')\n",
    "from collections import OrderedDict\n",
    "from libmatch.soap import get_Soaps\n",
    "import numpy as np\n",
    "import zoap\n",
    "import pymongo"
   ]
  },
  {
   "cell_type": "code",
   "execution_count": null,
   "metadata": {},
   "outputs": [],
   "source": [
    "def structure2qp_wrap(structure):\n",
    "    '''\n",
    "    Wrapper to use zoap.structure2qp with multiprocessing.Pool.map()\n",
    "    Anonymize _greatly_ speeds up SOAP calculation.\n",
    "    If structures are not already primitive,\n",
    "        primitivize can speed up SOAP calculation.\n",
    "    '''\n",
    "    return zoap.structure2qp(structure,\n",
    "                             anonymize=True, scale=True,\n",
    "                             standardize=True, primitivize=True)\n",
    "\n",
    "def get_chunk_indices(total_size, chunk_size):\n",
    "    '''\n",
    "    Generate list of index tuples to chunk up a big set of data\n",
    "    Args:\n",
    "        total_size (int): number of items in big set\n",
    "        chunk_size (int): number of items in all but the last chunk set\n",
    "    Returns:\n",
    "        [(int, int)]: list of index tuples\n",
    "    '''\n",
    "    i = 0\n",
    "    indices = []\n",
    "    while i < total_size:\n",
    "        indices.append((i, i+chunk_size))\n",
    "        i += chunk_size\n",
    "    return indices"
   ]
  },
  {
   "cell_type": "code",
   "execution_count": null,
   "metadata": {},
   "outputs": [],
   "source": [
    "client = pymongo.MongoClient('mongodb://127.0.0.1:27018/')\n",
    "db = client['structureREST']\n",
    "\n",
    "icsd_coll = db['icsd']\n",
    "cod_coll = db['cod']\n",
    "mpds_coll = db['mpds']\n",
    "\n",
    "stidy_coll = db['stidy']\n",
    "matminer_coll = db['matminer']\n",
    "soap_coll = db['soap']\n",
    "\n",
    "qp_coll = db['qp']"
   ]
  },
  {
   "cell_type": "code",
   "execution_count": null,
   "metadata": {},
   "outputs": [],
   "source": [
    "for source_collection in [icsd_coll, mpds_coll, cod_coll]:\n",
    "    for source_doc in source_collection.find()"
   ]
  },
  {
   "cell_type": "code",
   "execution_count": null,
   "metadata": {},
   "outputs": [],
   "source": []
  },
  {
   "cell_type": "code",
   "execution_count": null,
   "metadata": {},
   "outputs": [],
   "source": []
  },
  {
   "cell_type": "code",
   "execution_count": null,
   "metadata": {},
   "outputs": [],
   "source": [
    "pool = Pool(processes=cpu_count())  # lower processes if memory gets out of hand\n",
    "df['quippy'] = pool.map(structure2qp_wrap, df['structure'])\n",
    "pool.close()\n",
    "pool.join()"
   ]
  },
  {
   "cell_type": "code",
   "execution_count": null,
   "metadata": {},
   "outputs": [],
   "source": [
    "df['soaps'] = get_Soaps(np.array(df['quippy']),\n",
    "                        nocenters=None, chem_channels=False,\n",
    "                        centerweight=1.0, gaussian_width= 0.25,\n",
    "                        cutoff=2.5, cutoff_transition_width=0.5,\n",
    "                        nmax=10, lmax=8,\n",
    "                        spkitMax=None, nprocess=8,\n",
    "                        chemicalProjection=None, dispbar=False,\n",
    "                        is_fast_average=False)"
   ]
  },
  {
   "cell_type": "code",
   "execution_count": null,
   "metadata": {},
   "outputs": [],
   "source": []
  }
 ],
 "metadata": {
  "kernelspec": {
   "display_name": "Python 2",
   "language": "python",
   "name": "python2"
  },
  "language_info": {
   "codemirror_mode": {
    "name": "ipython",
    "version": 2
   },
   "file_extension": ".py",
   "mimetype": "text/x-python",
   "name": "python",
   "nbconvert_exporter": "python",
   "pygments_lexer": "ipython2",
   "version": "2.7.15"
  }
 },
 "nbformat": 4,
 "nbformat_minor": 2
}
