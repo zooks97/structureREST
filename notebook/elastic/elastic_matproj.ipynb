{
 "cells": [
  {
   "cell_type": "code",
   "execution_count": 1,
   "metadata": {},
   "outputs": [
    {
     "name": "stderr",
     "output_type": "stream",
     "text": [
      "/home/azadoks/miniconda3/envs/python2/lib/python2.7/site-packages/pymatgen/__init__.py:87: UserWarning: \n",
      "Pymatgen will drop Py2k support from v2019.1.1. Pls consult the documentation\n",
      "at https://www.pymatgen.org for more details.\n",
      "  at https://www.pymatgen.org for more details.\"\"\")\n"
     ]
    }
   ],
   "source": [
    "from sys import path\n",
    "path.insert(0, '/home/azadoks/git/glosim2/')\n",
    "path.insert(0, '/home/azadoks/git/structureREST/lib/')\n",
    "from pymatgen import MPRester, Structure\n",
    "from pymatgen.io.cif import CifParser\n",
    "from libmatch.soap import get_Soaps\n",
    "from multiprocessing import Pool, cpu_count\n",
    "from sklearn.decomposition import PCA\n",
    "import numpy as np\n",
    "import pandas as pd\n",
    "import json\n",
    "import zoap"
   ]
  },
  {
   "cell_type": "code",
   "execution_count": 2,
   "metadata": {},
   "outputs": [],
   "source": [
    "def structure2quippy_wrap(structure):\n",
    "    '''\n",
    "    Wrapper to use zoap.structure2qp with multiprocessing.Pool.map()\n",
    "    Anonymize _greatly_ speeds up SOAP calculation.\n",
    "    If structures are not already primitive,\n",
    "        primitivize can speed up SOAP calculation.\n",
    "    '''\n",
    "    return zoap.structure2quippy(structure,\n",
    "                                 anonymize=True, scale=True,\n",
    "                                 standardize=True, primitivize=True)\n",
    "\n",
    "def average_soap(soap_dict):\n",
    "    '''Calculate the average SOAP vector from a SOAP dictionary'''\n",
    "    return np.mean(soap_dict.values(), axis=0)"
   ]
  },
  {
   "cell_type": "code",
   "execution_count": 3,
   "metadata": {},
   "outputs": [],
   "source": [
    "# sources = ['matproj_query', 'matproj_query_json', 'matproj_nature_json']\n",
    "data_source = 'matproj_query_json'\n",
    "\n",
    "if data_source == 'matproj_query':\n",
    "    with MPRester('0WqdPfXxloze6T9N') as mpr:\n",
    "        criteria = {'elasticity': {'$ne': None}}\n",
    "        properties = ['pretty_formula', 'structure', 'elasticity', 'material_id']\n",
    "        results = mpr.query(criteria, properties, mp_decode=True)  # structures come as Sructures\n",
    "    df = pd.DataFrame(results)\n",
    "elif data_source == 'matproj_query_json':\n",
    "    with open('../../data/elastic/ec_query.json', 'r') as f:\n",
    "        results = json.load(f)\n",
    "    df = pd.DataFrame(results)\n",
    "    df['structure'] = df['structure'].apply(zoap.structure_from_dict_wrap)  # structures come as dictionaries\n",
    "elif data_source == 'matproj_nature_json':\n",
    "    with open('../../data/elastic/ec.json', 'r') as f:\n",
    "        results = json.load(f)\n",
    "    df = pd.DataFrame(results)\n",
    "    df['cif'] = df['structure']\n",
    "    df['structure'] = df['cif'].apply(zoap.cifparser_from_string_wrap)  # structures come as CIFs"
   ]
  },
  {
   "cell_type": "code",
   "execution_count": 4,
   "metadata": {},
   "outputs": [],
   "source": [
    "N_CPUS = cpu_count() # lower processes if memory gets out of hand -OR- implement chunking\n",
    "pool = Pool(processes=N_CPUS)  \n",
    "df['quippy'] = pool.map(structure2quippy_wrap, df['structure'])\n",
    "pool.close()\n",
    "pool.join()"
   ]
  },
  {
   "cell_type": "code",
   "execution_count": 5,
   "metadata": {},
   "outputs": [
    {
     "data": {
      "application/vnd.jupyter.widget-view+json": {
       "model_id": "bb7f6d2690744e2e8873186f71dded73",
       "version_major": 2,
       "version_minor": 0
      },
      "text/plain": [
       "HBox(children=(IntProgress(value=0, description=u'SOAP vectors', max=7122), HTML(value=u'')))"
      ]
     },
     "metadata": {},
     "output_type": "display_data"
    },
    {
     "name": "stdout",
     "output_type": "stream",
     "text": [
      "\n"
     ]
    }
   ],
   "source": [
    "df['soap'] = get_Soaps(np.array(df['quippy']),\n",
    "                        nocenters=None, chem_channels=False,\n",
    "                        centerweight=1.0, gaussian_width= 0.35,\n",
    "                        cutoff=2.0, cutoff_transition_width=0.25,\n",
    "                        nmax=12, lmax=10,\n",
    "                        spkitMax=None, nprocess=8,\n",
    "                        chemicalProjection=None, dispbar=False,\n",
    "                        is_fast_average=False)\n",
    "df['average_soap'] = df['soap'].apply(average_soap)"
   ]
  },
  {
   "cell_type": "code",
   "execution_count": 13,
   "metadata": {},
   "outputs": [],
   "source": [
    "exp_var_condition = 0.999\n",
    "soap_array = np.concatenate(df['average_soap']).reshape(len(df['average_soap']), len(df['average_soap'][0]))\n",
    "\n",
    "pca = PCA()\n",
    "pca.fit(soap_array)\n",
    "exp_var = pca.explained_variance_ratio_.cumsum().tolist()\n",
    "n_components = exp_var.index(next(x for x in exp_var if x > exp_var_condition))\n",
    "\n",
    "pca = PCA(n_components)\n",
    "pca_soap = pca.fit_transform(soap_array)"
   ]
  },
  {
   "cell_type": "code",
   "execution_count": 16,
   "metadata": {},
   "outputs": [],
   "source": [
    "np.savetxt('pca_average_soap.dat', pca_soap)"
   ]
  },
  {
   "cell_type": "code",
   "execution_count": null,
   "metadata": {},
   "outputs": [],
   "source": [
    "def average_distance(average_soap1, average_soap2):\n",
    "    '''\n",
    "    Calculate distance between to averaged SOAP vectors\n",
    "    using the average distance kernel from De et al. (2016)\n",
    "    Args:\n",
    "        average_soap1 (numpy.ndarray): numpy array of average SOAP vector 1\n",
    "        average_soap2 (numpy.ndarray): numpy array of average SOAP vector 2\n",
    "    Returns:\n",
    "        float: normalized distance between average_soap1 and average_soap2\n",
    "    '''\n",
    "    k11 = np.linalg.norm(average_soap1)\n",
    "    k22 = np.linalg.norm(average_soap2)\n",
    "    k12 = np.linalg.norm(average_soap1 - average_soap2)\n",
    "    d12 = np.sqrt(2 - 2 * (k12 / np.sqrt(k11 * k22)))\n",
    "    return d12\n",
    "\n",
    "def average_distance_matrix(vectors):\n",
    "    '''\n",
    "    Generate distance matrix for a set average SOAP vectors\n",
    "        using the average distance kernel\n",
    "    '''\n",
    "    distance_matrix = np.zeros(len(vectors), len(vectors))\n",
    "    for i, v1 in enumerate(vectors):\n",
    "        for j, v2 in enumerate(vectors[i+1:]):\n",
    "            distance_matrix[i,j] = average_distance(v1, v2)\n",
    "    return distance_matrix"
   ]
  }
 ],
 "metadata": {
  "kernelspec": {
   "display_name": "Python 2",
   "language": "python",
   "name": "python2"
  },
  "language_info": {
   "codemirror_mode": {
    "name": "ipython",
    "version": 2
   },
   "file_extension": ".py",
   "mimetype": "text/x-python",
   "name": "python",
   "nbconvert_exporter": "python",
   "pygments_lexer": "ipython2",
   "version": "2.7.15"
  }
 },
 "nbformat": 4,
 "nbformat_minor": 2
}
