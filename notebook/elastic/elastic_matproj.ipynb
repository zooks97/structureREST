{
 "cells": [
  {
   "cell_type": "code",
   "execution_count": 1,
   "metadata": {},
   "outputs": [
    {
     "name": "stderr",
     "output_type": "stream",
     "text": [
      "/home/azadoks/miniconda3/envs/python2/lib/python2.7/site-packages/pymatgen/__init__.py:87: UserWarning: \n",
      "Pymatgen will drop Py2k support from v2019.1.1. Pls consult the documentation\n",
      "at https://www.pymatgen.org for more details.\n",
      "  at https://www.pymatgen.org for more details.\"\"\")\n"
     ]
    }
   ],
   "source": [
    "from sys import path\n",
    "path.insert(0, '/home/azadoks/git/glosim2/')\n",
    "path.insert(0, '/home/azadoks/git/structureREST/lib/')\n",
    "from pymatgen import MPRester, Structure\n",
    "from pymatgen.io.cif import CifParser\n",
    "from libmatch.soap import get_Soaps\n",
    "from multiprocessing import Pool, cpu_count\n",
    "import numpy as np\n",
    "import pandas as pd\n",
    "import json\n",
    "import zoap"
   ]
  },
  {
   "cell_type": "code",
   "execution_count": 2,
   "metadata": {},
   "outputs": [],
   "source": [
    "def structure2qp_wrap(structure):\n",
    "    '''\n",
    "    Wrapper to use zoap.structure2qp with multiprocessing.Pool.map()\n",
    "    Anonymize _greatly_ speeds up SOAP calculation.\n",
    "    If structures are not already primitive,\n",
    "        primitivize can speed up SOAP calculation.\n",
    "    '''\n",
    "    return zoap.structure2qp(structure,\n",
    "                             anonymize=True, scale=True,\n",
    "                             standardize=True, primitivize=True)"
   ]
  },
  {
   "cell_type": "code",
   "execution_count": null,
   "metadata": {},
   "outputs": [],
   "source": [
    "# sources = ['matproj_query', 'matproj_query_json', 'matproj_nature_json']\n",
    "data_source = 'matproj_query_json'\n",
    "\n",
    "if data_source == 'matproj_query':\n",
    "    with MPRester('0WqdPfXxloze6T9N') as mpr:\n",
    "        criteria = {'elasticity': {'$ne': None}}\n",
    "        properties = ['pretty_formula', 'structure', 'elasticity', 'material_id']\n",
    "        results = mpr.query(criteria, properties, mp_decode=True)  # structures come as Sructures\n",
    "    df = pd.DataFrame(results)\n",
    "elif data_source == 'matproj_query_json':\n",
    "    with open('../../data/elastic/ec_query.json', 'r') as f:\n",
    "        results = json.load(f)\n",
    "    df = pd.DataFrame(results)\n",
    "    df['structures'] = df.apply(zoap.structure_from_dict_wrap)  # structures come as dictionaries\n",
    "elif data_source == 'matproj_nature_json':\n",
    "    with open('../../data/elastic/ec.json', 'r') as f:\n",
    "        results = json.load(f)\n",
    "    df = pd.DataFrame(results)\n",
    "    df['cif'] = df['structure']\n",
    "    df['structure'] = df['cif'].apply(zoap.cifparser_from_string_wrap)  # structures come as CIFs"
   ]
  },
  {
   "cell_type": "code",
   "execution_count": null,
   "metadata": {},
   "outputs": [],
   "source": [
    "N_CPUS = cpu_count() # lower processes if memory gets out of hand -OR- implement chunking\n",
    "pool = Pool(processes=N_CPUS)  \n",
    "df['quippy'] = pool.map(structure2quippy_wrap, df['structure'])\n",
    "pool.close()\n",
    "pool.join()"
   ]
  },
  {
   "cell_type": "code",
   "execution_count": null,
   "metadata": {},
   "outputs": [],
   "source": [
    "df['soaps'] = get_Soaps(np.array(df['quippy']),\n",
    "                        nocenters=None, chem_channels=False,\n",
    "                        centerweight=1.0, gaussian_width= 0.25,\n",
    "                        cutoff=2.5, cutoff_transition_width=0.5,\n",
    "                        nmax=10, lmax=8,\n",
    "                        spkitMax=None, nprocess=8,\n",
    "                        chemicalProjection=None, dispbar=False,\n",
    "                        is_fast_average=False)"
   ]
  },
  {
   "cell_type": "code",
   "execution_count": null,
   "metadata": {},
   "outputs": [],
   "source": []
  }
 ],
 "metadata": {
  "kernelspec": {
   "display_name": "Python 2",
   "language": "python",
   "name": "python2"
  },
  "language_info": {
   "codemirror_mode": {
    "name": "ipython",
    "version": 2
   },
   "file_extension": ".py",
   "mimetype": "text/x-python",
   "name": "python",
   "nbconvert_exporter": "python",
   "pygments_lexer": "ipython2",
   "version": "2.7.15"
  }
 },
 "nbformat": 4,
 "nbformat_minor": 2
}
