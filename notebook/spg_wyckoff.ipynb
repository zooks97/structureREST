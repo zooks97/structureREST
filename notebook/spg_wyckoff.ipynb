{
 "cells": [
  {
   "cell_type": "code",
   "execution_count": 1,
   "metadata": {},
   "outputs": [],
   "source": [
    "import spglib\n",
    "import pymatgen\n",
    "import pymatgen.io.cif  \n",
    "def get_cell(self: pymatgen.core.Structure) -> tuple:\n",
    "    lattice = self.lattice.matrix\n",
    "    positions = self.frac_coords\n",
    "    numbers = [site.specie.Z for site in self.sites]\n",
    "    return (lattice, positions, numbers)\n",
    "\n",
    "pymatgen.core.Structure.get_cell = get_cell\n",
    "\n",
    "def get_wyckoffs(cell: tuple, symprec: float=1e-5, angle_tolerance: float=1.) -> [str]:\n",
    "    space_group = spglib.get_spacegroup(cell, symprec=SYMPREC)\n",
    "    symmetry = spglib.get_symmetry(cell, symprec=SYMPREC)\n",
    "    hall_number = spglib.get_hall_number_from_symmetry(symmetry['rotations'],\n",
    "                                                       symmetry['translations'],\n",
    "                                                       symprec=SYMPREC)\n",
    "    symmetry_dataset = spglib.get_symmetry_dataset(cell, symprec=symprec,\n",
    "                                                   angle_tolerance=angle_tolerance,\n",
    "                                                   hall_number=hall_number)\n",
    "    return symmetry_dataset['wyckoffs']\n",
    "\n",
    "def get_structure(cell: tuple) -> pymatgen.core.Structure:\n",
    "    return pymatgen.Structure(cell[0], cell[2], cell[1])\n",
    "\n",
    "def wyckoff_fingerprint(cell: tuple, symprec: float=1e-5, angle_tolerance: float=1.) -> str:\n",
    "    wyckoffs = get_wyckoffs(cell=cell, symprec=symprec, angle_tolerance=angle_tolerance)\n",
    "    space_group = spglib.get_spacegroup(cell, symprec=SYMPREC).split('(')[-1].split(')')[0]\n",
    "    return '_'.join([space_group] + wyckoffs)"
   ]
  },
  {
   "cell_type": "code",
   "execution_count": 2,
   "metadata": {},
   "outputs": [
    {
     "data": {
      "text/plain": [
       "Structure Summary\n",
       "Lattice\n",
       "    abc : 7.3409526 7.34095259 7.3409526\n",
       " angles : 25.103119069999998 25.103119139999997 25.103119100000026\n",
       " volume : 62.6493334321811\n",
       "      A : 3.11438974864272 0.0 6.64756809434818\n",
       "      B : 1.4800076654772434 2.7402555974884333 6.647568089097668\n",
       "      C : 0.0 0.0 7.3409526\n",
       "PeriodicSite: Mo (4.5934, 2.7396, 20.6315) [0.9998, 0.9998, 0.9998]\n",
       "PeriodicSite: S (1.8678, 1.1140, 8.3893) [0.4065, 0.4065, 0.4065]\n",
       "PeriodicSite: S (1.1931, 0.7116, 5.3589) [0.2597, 0.2597, 0.2597]"
      ]
     },
     "metadata": {},
     "output_type": "display_data"
    },
    {
     "data": {
      "text/plain": [
       "Structure Summary\n",
       "Lattice\n",
       "    abc : 7.340952596229538 7.340952596229538 7.340952596229538\n",
       " angles : 25.10311908072692 25.10311908072692 25.10311908072692\n",
       " volume : 62.64933331369399\n",
       "      A : 1.595321716877836 0.9210594226834745 7.106066646157573\n",
       "      B : -1.595321716877836 0.9210594226834745 7.106066646157573\n",
       "      C : 0.0 -1.842118845366949 7.106066646157573\n",
       "PeriodicSite: Mo (-0.0000, -0.0000, 0.0048) [0.0002, 0.0002, 0.0002]\n",
       "PeriodicSite: S (0.0000, -0.0000, 12.6516) [0.5935, 0.5935, 0.5935]\n",
       "PeriodicSite: S (0.0000, 0.0000, 15.7821) [0.7403, 0.7403, 0.7403]"
      ]
     },
     "metadata": {},
     "output_type": "display_data"
    },
    {
     "data": {
      "text/plain": [
       "'160_a_a_a'"
      ]
     },
     "metadata": {},
     "output_type": "display_data"
    },
    {
     "name": "stdout",
     "output_type": "stream",
     "text": [
      "********************************************************************************\n"
     ]
    },
    {
     "data": {
      "text/plain": [
       "Structure Summary\n",
       "Lattice\n",
       "    abc : 3.19064344 3.1906434400000006 21.31819994\n",
       " angles : 90.0 90.0 119.99999999999999\n",
       " volume : 187.9480006902036\n",
       "      A : 3.19064344 0.0 1.95370563800825e-16\n",
       "      B : -1.5953217199999994 2.763178273458171 1.95370563800825e-16\n",
       "      C : 0.0 0.0 21.31819994\n",
       "PeriodicSite: Mo (1.5953, 0.9211, 7.1013) [0.6667, 0.3333, 0.3331]\n",
       "PeriodicSite: Mo (-0.0000, 1.8421, 14.2074) [0.3333, 0.6667, 0.6664]\n",
       "PeriodicSite: Mo (0.0000, 0.0000, 21.3134) [0.0000, 0.0000, 0.9998]\n",
       "PeriodicSite: S (-0.0000, 1.8421, 1.5605) [0.3333, 0.6667, 0.0732]\n",
       "PeriodicSite: S (0.0000, 0.0000, 5.5361) [0.0000, 0.0000, 0.2597]\n",
       "PeriodicSite: S (0.0000, 0.0000, 8.6666) [0.0000, 0.0000, 0.4065]\n",
       "PeriodicSite: S (1.5953, 0.9211, 12.6421) [0.6667, 0.3333, 0.5930]\n",
       "PeriodicSite: S (1.5953, 0.9211, 15.7727) [0.6667, 0.3333, 0.7399]\n",
       "PeriodicSite: S (-0.0000, 1.8421, 19.7482) [0.3333, 0.6667, 0.9264]"
      ]
     },
     "metadata": {},
     "output_type": "display_data"
    },
    {
     "data": {
      "text/plain": [
       "Structure Summary\n",
       "Lattice\n",
       "    abc : 7.3409525976270125 7.3409525976270125 7.3409525976270125\n",
       " angles : 25.10311912580013 25.10311912580013 25.10311912580013\n",
       " volume : 62.649333563401186\n",
       "      A : 1.59532172 0.9210594244860568 7.106066646666666\n",
       "      B : -1.59532172 0.9210594244860568 7.106066646666666\n",
       "      C : 0.0 -1.8421188489721136 7.106066646666666\n",
       "PeriodicSite: Mo (-0.0000, -0.0000, 21.3134) [0.9998, 0.9998, 0.9998]\n",
       "PeriodicSite: S (0.0000, -0.0000, 8.6666) [0.4065, 0.4065, 0.4065]\n",
       "PeriodicSite: S (-0.0000, 0.0000, 5.5361) [0.2597, 0.2597, 0.2597]"
      ]
     },
     "metadata": {},
     "output_type": "display_data"
    },
    {
     "data": {
      "text/plain": [
       "'160_a_a_a'"
      ]
     },
     "metadata": {},
     "output_type": "display_data"
    },
    {
     "name": "stdout",
     "output_type": "stream",
     "text": [
      "********************************************************************************\n"
     ]
    },
    {
     "data": {
      "text/plain": [
       "Structure Summary\n",
       "Lattice\n",
       "    abc : 7.3409526 7.3409526 7.3409526\n",
       " angles : 25.10311911999998 25.10311911999998 25.103119119999967\n",
       " volume : 62.64933359662721\n",
       "      A : 3.1143897463222805 0.0 6.647568095435307\n",
       "      B : 1.4800076695142357 2.7402556067229202 6.647568095435307\n",
       "      C : 0.0 0.0 7.3409526\n",
       "PeriodicSite: Mo (4.5934, 2.7396, 20.6315) [0.9998, 0.9998, 0.9998]\n",
       "PeriodicSite: S (1.8678, 1.1140, 8.3893) [0.4065, 0.4065, 0.4065]\n",
       "PeriodicSite: S (1.1931, 0.7116, 5.3589) [0.2597, 0.2597, 0.2597]"
      ]
     },
     "metadata": {},
     "output_type": "display_data"
    },
    {
     "data": {
      "text/plain": [
       "Structure Summary\n",
       "Lattice\n",
       "    abc : 7.3409526 7.3409526 7.3409526\n",
       " angles : 25.103119119999967 25.103119119999967 25.10311911999998\n",
       " volume : 62.649333596627194\n",
       "      A : 1.5953217201530057 0.9210594245743945 7.106066649072291\n",
       "      B : -1.5953217201530057 0.9210594245743945 7.106066649072291\n",
       "      C : 0.0 -1.842118849148789 7.106066649072291\n",
       "PeriodicSite: Mo (-0.0000, -0.0000, 0.0048) [0.0002, 0.0002, 0.0002]\n",
       "PeriodicSite: S (-0.0000, 0.0000, 12.6516) [0.5935, 0.5935, 0.5935]\n",
       "PeriodicSite: S (0.0000, 0.0000, 15.7821) [0.7403, 0.7403, 0.7403]"
      ]
     },
     "metadata": {},
     "output_type": "display_data"
    },
    {
     "data": {
      "text/plain": [
       "'160_a_a_a'"
      ]
     },
     "metadata": {},
     "output_type": "display_data"
    },
    {
     "name": "stdout",
     "output_type": "stream",
     "text": [
      "********************************************************************************\n"
     ]
    }
   ],
   "source": [
    "SYMPREC = 1e-3\n",
    "ANGLE_TOLERANCE = 5.\n",
    "\n",
    "cifs = ['../data/MoS2_mp-1434_computed.cif',\n",
    "        '../data/MoS2_mp-1434_conventional_standard.cif',\n",
    "        '../data/MoS2_mp-1434_primitive.cif']\n",
    "structures = []\n",
    "for cif in cifs:\n",
    "    structures += pymatgen.io.cif.CifParser(cif).get_structures(primitive=False)\n",
    "    \n",
    "for structure in structures:\n",
    "    cell = structure.get_cell()\n",
    "    psc = spglib.standardize_cell(cell, to_primitive=True, no_idealize=False, symprec=SYMPREC)\n",
    "    pss = get_structure(psc)\n",
    "    wf = wyckoff_fingerprint(psc, symprec=SYMPREC, angle_tolerance=ANGLE_TOLERANCE)\n",
    "    display(structure, pss, wf)\n",
    "    print(''.join(['*']*80))"
   ]
  },
  {
   "cell_type": "code",
   "execution_count": null,
   "metadata": {},
   "outputs": [],
   "source": []
  }
 ],
 "metadata": {
  "kernelspec": {
   "display_name": "Python 3",
   "language": "python",
   "name": "python3"
  },
  "language_info": {
   "codemirror_mode": {
    "name": "ipython",
    "version": 3
   },
   "file_extension": ".py",
   "mimetype": "text/x-python",
   "name": "python",
   "nbconvert_exporter": "python",
   "pygments_lexer": "ipython3",
   "version": "3.6.5"
  }
 },
 "nbformat": 4,
 "nbformat_minor": 2
}
