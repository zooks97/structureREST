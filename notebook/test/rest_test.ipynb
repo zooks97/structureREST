{
 "cells": [
  {
   "cell_type": "code",
   "execution_count": 1,
   "metadata": {},
   "outputs": [
    {
     "name": "stderr",
     "output_type": "stream",
     "text": [
      "/home/azadoks/miniconda3/envs/python2/lib/python2.7/site-packages/pymatgen/__init__.py:87: UserWarning: \n",
      "Pymatgen will drop Py2k support from v2019.1.1. Pls consult the documentation\n",
      "at https://www.pymatgen.org for more details.\n",
      "  at https://www.pymatgen.org for more details.\"\"\")\n"
     ]
    }
   ],
   "source": [
    "from collections import OrderedDict\n",
    "from pymatgen import MPRester\n",
    "import requests\n",
    "import json"
   ]
  },
  {
   "cell_type": "code",
   "execution_count": 2,
   "metadata": {},
   "outputs": [],
   "source": [
    "material_ids = OrderedDict([\n",
    "    ('diamond', 'mp-66'),  # C\n",
    "    ('gaas', 'mp-2534'),  # GaAs\n",
    "    ('rocksalt', 'mp-22862'),  # NaCl\n",
    "    ('cubic_perovskite', 'mp-2998'),  # BaTiO3\n",
    "    ('tetragonal_perovskite', 'mp-5986'),  # BaTiO3\n",
    "    ('trigonal_perovskite', 'mp-5020'),  # BaTiO3\n",
    "    ('orthorhombic_perovskite', 'mp-5777'),  # BaTiO3\n",
    "    ('zincblende', 'mp-10695'),  # ZnS\n",
    "    ('wurtzite', 'mp-10281'),  # ZnS\n",
    "    ('fcc', 'mp-23'),  # Ni\n",
    "    ('big_fcc', 'mp-76'),  # Sr\n",
    "    ('bcc', 'mp-13'),  # Fe\n",
    "    ('big_bcc', 'mp-70'),  # Rb\n",
    "    ('hcp', 'mp-153'),  # Mg\n",
    "    ('trigonal', 'mp-782'),  # Te2Pd\n",
    "    ('tetragonal', 'mp-742'),  # Ti2Cu\n",
    "    ('monoclinic', 'mp-684'),  # BaS2\n",
    "    ('triclinic', 'mp-9122'),  # CaP3\n",
    "    ('orthorhombic', 'mp-872')  # BaSn\n",
    "])"
   ]
  },
  {
   "cell_type": "code",
   "execution_count": 3,
   "metadata": {},
   "outputs": [],
   "source": [
    "with MPRester('0WqdPfXxloze6T9N') as mpr:\n",
    "    structures = OrderedDict([(name, mpr.get_structure_by_material_id(id)) for name, id in material_ids.iteritems()])"
   ]
  },
  {
   "cell_type": "code",
   "execution_count": null,
   "metadata": {},
   "outputs": [],
   "source": [
    "payloads = {\n",
    "    'soaps': payload = {\n",
    "        'structures': json.dumps([structures[s].as_dict() for s in structures.values()]),\n",
    "        'nocenters': None, 'chem_channels': False,\n",
    "        'centerweight': 1.0, 'gaussian_width': 0.5,\n",
    "        'cutoff': 3.5, 'cutoff_transition_width': 0.5,\n",
    "        'nmax': 8, 'lmax': 6,\n",
    "        'spkitMax': None, 'chemicalProjection': None,\n",
    "        'is_fast_average': False\n",
    "    },\n",
    "    'matminer': {\n",
    "        'structures': json.dumps([s.as_dict() for s in structures.values()]),\n",
    "        'preset': 'cn',\n",
    "        'crystal_site_args': {},\n",
    "        'site_stats_args': {}\n",
    "    },\n",
    "    'pymatgen': {\n",
    "        'structures': json.dumps([s.as_dict() for s in structures.values()]),\n",
    "        'comparator': 'OccupancyComparator',\n",
    "        'anonymous': True,\n",
    "    },\n",
    "    'stidy': {\n",
    "        'structures': json.dumps([s.as_dict() for s in structures.values()]),\n",
    "        'symprec': 1e-2,\n",
    "        'angle_tolerance': 5.\n",
    "    }\n",
    "}"
   ]
  },
  {
   "cell_type": "code",
   "execution_count": null,
   "metadata": {},
   "outputs": [],
   "source": [
    "endpoint = \"fingerprints\"\n",
    "function = \"soaps\"\n",
    "payload = {\n",
    "    'atoms': json.dumps([s.as_dict() for s in structures.values()]),\n",
    "    'nocenters': None, 'chem_channels': False,\n",
    "    'centerweight': 1.0, 'gaussian_width': 0.5,\n",
    "    'cutoff': 3.5, 'cutoff_transition_width': 0.5,\n",
    "    'nmax': 8, 'lmax': 6,\n",
    "    'spkitMax': None, 'chemicalProjection': None,\n",
    "    'is_fast_average': False\n",
    "}\n",
    "\n",
    "r = requests.get('http://127.0.0.1:5000/v1/{}/{}'.format(endpoint, function), params=payload)"
   ]
  },
  {
   "cell_type": "code",
   "execution_count": 11,
   "metadata": {},
   "outputs": [
    {
     "name": "stdout",
     "output_type": "stream",
     "text": [
      "<Response [404]>\n"
     ]
    }
   ],
   "source": [
    "endpoint = \"fingerprints\"\n",
    "function = \"matminer\"\n",
    "payload = {\n",
    "    'structures': json.dumps([s.as_dict() for s in structures.values()]),\n",
    "    'preset': 'cn',\n",
    "    'crystal_site_args': {},\n",
    "    'site_stats_args': {}\n",
    "}\n",
    "\n",
    "r = requests.get('http://127.0.0.1:5000/v1/{}/{}'.format(endpoint, function), params=payload)\n",
    "print(r)"
   ]
  },
  {
   "cell_type": "code",
   "execution_count": null,
   "metadata": {},
   "outputs": [],
   "source": [
    "endpoints = {# 'distances': ['matminer', 'pymatgen', 'soaps'],\n",
    "             # 'comparisons': ['matminer', 'pymatgen', 'soaps'],\n",
    "             # 'fingerprints': ['matminer', 'stidy', 'soaps'],\n",
    "             'fingerprints': ['soaps']}\n",
    "for endpoint, functions in endpoints.items():\n",
    "    for function in functions:\n",
    "        print(endpoint, function)\n",
    "        payload = payloads[function]\n",
    "        r = requests.get('http://127.0.0.1:5000/v1/{}/{}'.format(endpoint, function), params=payload)\n",
    "        results = json.loads(r.text)\n",
    "        print(results)"
   ]
  }
 ],
 "metadata": {
  "kernelspec": {
   "display_name": "Python 3",
   "language": "python",
   "name": "python3"
  },
  "language_info": {
   "codemirror_mode": {
    "name": "ipython",
    "version": 2
   },
   "file_extension": ".py",
   "mimetype": "text/x-python",
   "name": "python",
   "nbconvert_exporter": "python",
   "pygments_lexer": "ipython2",
   "version": "2.7.15"
  }
 },
 "nbformat": 4,
 "nbformat_minor": 2
}
