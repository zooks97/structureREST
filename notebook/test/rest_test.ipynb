{
 "cells": [
  {
   "cell_type": "code",
   "execution_count": null,
   "metadata": {},
   "outputs": [],
   "source": [
    "from collections import OrderedDict\n",
    "from pymatgen import MPRester\n",
    "import requests"
   ]
  },
  {
   "cell_type": "code",
   "execution_count": null,
   "metadata": {},
   "outputs": [],
   "source": [
    "material_ids = OrderedDict([\n",
    "    ('diamond', 'mp-66'),  # C\n",
    "    ('gaas', 'mp-2534'),  # GaAs\n",
    "    ('rocksalt', 'mp-22862'),  # NaCl\n",
    "    ('cubic_perovskite', 'mp-2998'),  # BaTiO3\n",
    "    ('tetragonal_perovskite', 'mp-5986'),  # BaTiO3\n",
    "    ('trigonal_perovskite', 'mp-5020'),  # BaTiO3\n",
    "    ('orthorhombic_perovskite', 'mp-5777'),  # BaTiO3\n",
    "    ('zincblende', 'mp-10695'),  # ZnS\n",
    "    ('wurtzite', 'mp-10281'),  # ZnS\n",
    "    ('fcc', 'mp-23'),  # Ni\n",
    "    ('big_fcc', 'mp-76'),  # Sr\n",
    "    ('bcc', 'mp-13'),  # Fe\n",
    "    ('big_bcc', 'mp-70'),  # Rb\n",
    "    ('hcp', 'mp-153'),  # Mg\n",
    "    ('trigonal', 'mp-782'),  # Te2Pd\n",
    "    ('tetragonal', 'mp-742'),  # Ti2Cu\n",
    "    ('monoclinic', 'mp-684'),  # BaS2\n",
    "    ('triclinic', 'mp-9122'),  # CaP3\n",
    "    ('orthorhombic', 'mp-872')  # BaSn\n",
    "])"
   ]
  },
  {
   "cell_type": "code",
   "execution_count": null,
   "metadata": {},
   "outputs": [],
   "source": [
    "with MPRester('0WqdPfXxloze6T9N') as mpr:\n",
    "    structures = OrderedDict([(name, mpr.get_structure_by_material_id(id)) for name, id in material_ids.iteritems()])"
   ]
  },
  {
   "cell_type": "code",
   "execution_count": null,
   "metadata": {},
   "outputs": [],
   "source": [
    "endpoints = {'distances': ['matminer', 'pymatgen', 'soap'],\n",
    "             'comparisons': ['matminer', 'pymatgen', 'soap'],\n",
    "             'fingerprints': ['matminer', 'stidy', 'soap']}\n",
    "for endpoint, functions in endpoints.items():\n",
    "    for function in functions:\n",
    "        print(endpoint, function)\n",
    "        r = requests.get('http://127.0.0.1:5000/v1/{}/{}/'.format(endpoint, function), params=payload)\n",
    "        results = json.loads(r.text)\n",
    "        print(results)"
   ]
  },
  {
   "cell_type": "code",
   "execution_count": null,
   "metadata": {},
   "outputs": [],
   "source": []
  }
 ],
 "metadata": {
  "kernelspec": {
   "display_name": "Python 3",
   "language": "python",
   "name": "python3"
  },
  "language_info": {
   "codemirror_mode": {
    "name": "ipython",
    "version": 2
   },
   "file_extension": ".py",
   "mimetype": "text/x-python",
   "name": "python",
   "nbconvert_exporter": "python",
   "pygments_lexer": "ipython2",
   "version": "2.7.15"
  }
 },
 "nbformat": 4,
 "nbformat_minor": 2
}
