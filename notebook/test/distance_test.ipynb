{
 "cells": [
  {
   "cell_type": "code",
   "execution_count": 1,
   "metadata": {},
   "outputs": [
    {
     "name": "stderr",
     "output_type": "stream",
     "text": [
      "/home/azadoks/miniconda3/envs/python2/lib/python2.7/site-packages/pymatgen/__init__.py:87: UserWarning: \n",
      "Pymatgen will drop Py2k support from v2019.1.1. Pls consult the documentation\n",
      "at https://www.pymatgen.org for more details.\n",
      "  at https://www.pymatgen.org for more details.\"\"\")\n"
     ]
    }
   ],
   "source": [
    "from sys import path\n",
    "path.insert(0, '/home/azadoks/git/glosim2/')\n",
    "path.insert(0, '/home/azadoks/git/structureREST/lib/')\n",
    "from collections import OrderedDict\n",
    "from pymatgen import MPRester\n",
    "from libmatch.soap import get_Soaps\n",
    "import numpy as np\n",
    "import zoap\n",
    "# import distances\n",
    "\n",
    "np.set_printoptions(floatmode='fixed', precision=4)"
   ]
  },
  {
   "cell_type": "code",
   "execution_count": null,
   "metadata": {},
   "outputs": [],
   "source": [
    "material_ids = OrderedDict([\n",
    "    ('diamond', 'mp-66'),  # C\n",
    "    ('gaas', 'mp-2534'),  # GaAs\n",
    "    ('rocksalt', 'mp-22862'),  # NaCl\n",
    "    ('cubic_perovskite', 'mp-2998'),  # BaTiO3\n",
    "    ('tetragonal_perovskite', 'mp-5986'),  # BaTiO3\n",
    "    ('trigonal_perovskite', 'mp-5020'),  # BaTiO3\n",
    "    ('orthorhombic_perovskite', 'mp-5777'),  # BaTiO3\n",
    "    ('zincblende', 'mp-10695'),  # ZnS\n",
    "    ('wurtzite', 'mp-10281'),  # ZnS\n",
    "    ('fcc', 'mp-23'),  # Ni\n",
    "    ('big_fcc', 'mp-76'),  # Sr\n",
    "    ('bcc', 'mp-13'),  # Fe\n",
    "    ('big_bcc', 'mp-70'),  # Rb\n",
    "    ('hcp', 'mp-153'),  # Mg\n",
    "    ('trigonal', 'mp-782'),  # Te2Pd\n",
    "    ('tetragonal', 'mp-742'),  # Ti2Cu\n",
    "    ('monoclinic', 'mp-684'),  # BaS2\n",
    "    ('triclinic', 'mp-9122'),  # CaP3\n",
    "    ('orthorhombic', 'mp-872')  # BaSn\n",
    "])"
   ]
  },
  {
   "cell_type": "code",
   "execution_count": 2,
   "metadata": {},
   "outputs": [],
   "source": [
    "material_ids = OrderedDict([\n",
    "    ('zincblende', 'mp-10695'),  # ZnS\n",
    "#     ('wurtzite', 'mp-10281'),  # ZnS\n",
    "    ('fcc', 'mp-23'),  # Ni\n",
    "    ('big_fcc', 'mp-76'),  # Sr\n",
    "    ('bcc', 'mp-13'),  # Fe\n",
    "])"
   ]
  },
  {
   "cell_type": "code",
   "execution_count": 7,
   "metadata": {},
   "outputs": [],
   "source": [
    "material_ids = OrderedDict([\n",
    "    ('zincblende', 'mp-10695'),  # ZnS\n",
    "    ('wurtzite', 'mp-10281'),  # ZnS\n",
    "])"
   ]
  },
  {
   "cell_type": "code",
   "execution_count": null,
   "metadata": {},
   "outputs": [],
   "source": [
    "# py3\n",
    "with MPRester('0WqdPfXxloze6T9N') as mpr:\n",
    "    structures = OrderedDict([(name, mpr.get_structure_by_material_id(id))\n",
    "                              for name, id in material_ids.items()])"
   ]
  },
  {
   "cell_type": "code",
   "execution_count": 8,
   "metadata": {},
   "outputs": [],
   "source": [
    "# py2\n",
    "with MPRester('0WqdPfXxloze6T9N') as mpr:\n",
    "    structures = OrderedDict([(name, mpr.get_structure_by_material_id(id))\n",
    "                              for name, id in material_ids.iteritems()])"
   ]
  },
  {
   "cell_type": "markdown",
   "metadata": {},
   "source": [
    "## pymatgen\n",
    "---"
   ]
  },
  {
   "cell_type": "code",
   "execution_count": null,
   "metadata": {},
   "outputs": [],
   "source": [
    "pmg_distances = np.zeros((len(structures), len(structures)))\n",
    "for i, a in enumerate(structures.values()):\n",
    "    for j, b in enumerate(structures.values()):\n",
    "        d = distances.pymatgen_distances(structures=[a.as_dict(), b.as_dict()])[0]\n",
    "        if d is None:\n",
    "            pmg_distances[i, j] = d\n",
    "        else:\n",
    "            pmg_distances[i, j] = d[0]"
   ]
  },
  {
   "cell_type": "code",
   "execution_count": null,
   "metadata": {},
   "outputs": [],
   "source": [
    "display(material_ids.keys())\n",
    "display(pmg_distances)"
   ]
  },
  {
   "cell_type": "markdown",
   "metadata": {},
   "source": [
    "## matminer\n",
    "---"
   ]
  },
  {
   "cell_type": "code",
   "execution_count": null,
   "metadata": {},
   "outputs": [],
   "source": [
    "mat_distances = np.zeros((len(structures), len(structures)))\n",
    "for i, a in enumerate(structures.values()):\n",
    "    for j, b in enumerate(structures.values()):\n",
    "        d = distances.matminer_distances(structures=[a.as_dict(), b.as_dict()])[0]\n",
    "        mat_distances[i, j] = d"
   ]
  },
  {
   "cell_type": "code",
   "execution_count": null,
   "metadata": {},
   "outputs": [],
   "source": [
    "display(material_ids.keys())\n",
    "display(mat_distances)"
   ]
  },
  {
   "cell_type": "markdown",
   "metadata": {},
   "source": [
    "## SOAP\n",
    "---"
   ]
  },
  {
   "cell_type": "code",
   "execution_count": 9,
   "metadata": {},
   "outputs": [
    {
     "data": {
      "application/vnd.jupyter.widget-view+json": {
       "model_id": "e0542cfa97c84fdb8974b3a367b01626",
       "version_major": 2,
       "version_minor": 0
      },
      "text/plain": [
       "HBox(children=(IntProgress(value=0, description=u'SOAP vectors', max=2), HTML(value=u'')))"
      ]
     },
     "metadata": {},
     "output_type": "display_data"
    },
    {
     "name": "stdout",
     "output_type": "stream",
     "text": [
      "\n"
     ]
    }
   ],
   "source": [
    "qps = OrderedDict([(name, zoap.structure2quippy(structure,\n",
    "                                                anonymize=True, scale=True,\n",
    "                                                standardize=False, primitivize=False)\n",
    "                   )\n",
    "                   for name, structure in structures.iteritems()])\n",
    "\n",
    "soaps = get_Soaps(qps.values(),\n",
    "                  nocenters=None, chem_channels=False,\n",
    "                  centerweight=1.0, gaussian_width=0.25,\n",
    "                  cutoff=2.5, cutoff_transition_width=0.25,\n",
    "                  nmax=12, lmax=8,\n",
    "                  spkitMax=None, nprocess=8,\n",
    "                  chemicalProjection=None, dispbar=False,\n",
    "                  is_fast_average=False)"
   ]
  },
  {
   "cell_type": "code",
   "execution_count": 10,
   "metadata": {},
   "outputs": [
    {
     "name": "stderr",
     "output_type": "stream",
     "text": [
      "/home/azadoks/git/structureREST/lib/zoap.py:89: RuntimeWarning: invalid value encountered in sqrt\n",
      "  d12 = np.sqrt(2 - 2 * (k12 / np.sqrt(k11 * k22)))\n"
     ]
    }
   ],
   "source": [
    "soap_distances = np.zeros((len(soaps), len(soaps)))\n",
    "for i, a in enumerate(soaps):\n",
    "    a = np.mean(a.values(), axis=0)\n",
    "    for j, b in enumerate(soaps):\n",
    "        b = np.mean(b.values(), axis=0)\n",
    "        d = zoap.average_distance(a, b)\n",
    "        if np.isnan(d):\n",
    "            soap_distances[i, j] = 0\n",
    "        else:\n",
    "            soap_distances[i, j] = d"
   ]
  },
  {
   "cell_type": "code",
   "execution_count": 11,
   "metadata": {
    "scrolled": true
   },
   "outputs": [
    {
     "data": {
      "text/plain": [
       "['zincblende', 'wurtzite']"
      ]
     },
     "metadata": {},
     "output_type": "display_data"
    },
    {
     "data": {
      "text/plain": [
       "array([[0.0000, 0.4711],\n",
       "       [0.4711, 0.0000]])"
      ]
     },
     "metadata": {},
     "output_type": "display_data"
    }
   ],
   "source": [
    "display(material_ids.keys())\n",
    "display(soap_distances)"
   ]
  },
  {
   "cell_type": "code",
   "execution_count": null,
   "metadata": {},
   "outputs": [],
   "source": []
  }
 ],
 "metadata": {
  "kernelspec": {
   "display_name": "Python 3",
   "language": "python",
   "name": "python3"
  },
  "language_info": {
   "codemirror_mode": {
    "name": "ipython",
    "version": 2
   },
   "file_extension": ".py",
   "mimetype": "text/x-python",
   "name": "python",
   "nbconvert_exporter": "python",
   "pygments_lexer": "ipython2",
   "version": "2.7.15"
  }
 },
 "nbformat": 4,
 "nbformat_minor": 2
}
