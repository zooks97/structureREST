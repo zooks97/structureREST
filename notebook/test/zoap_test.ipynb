{
 "cells": [
  {
   "cell_type": "markdown",
   "metadata": {},
   "source": [
    "### TODO\n",
    "* Get 4 sets of structures:\n",
    "  * spacegroup A\n",
    "  * spacegroup B\n",
    "  * random structures from DB\n",
    "  * random (ideal gas) structures from np.random\n",
    "* Comparing structures to ideal gas\n",
    "  * ensure consistent density distribution of random structues and ideal gasses\n",
    "  * optimize SOAP parameters so that HDBSCAN clustering does not cluster ideal\n",
    "    gasses with structures \n",
    "* Ensuring cluster segregation between spacegroups\n",
    "  * use sets of spacegroup A and spacegroup B (possibly more ~5 space groups)\n",
    "  * fingerprint with SOAP and cluster with HDBSCAN\n",
    "  * tune SOAP parameters and dimensionality reduction to ensure cluster segregation\n",
    "  * optimize for wyckoff segregation within spacegroup clusters as well\n",
    "* Try dimensionality reduction using PCA with Zimmermann / Matminer / Pymatgen fingerprints (1x48 vectors)\n",
    "* Implement SOAP mean / std dev reduction and concatenation\n",
    "  * reduce dimensionality with PCA trained on full set of individual soap vectors\n",
    "  * ? include std dev in the training set ?"
   ]
  },
  {
   "cell_type": "markdown",
   "metadata": {},
   "source": [
    "---"
   ]
  },
  {
   "cell_type": "code",
   "execution_count": null,
   "metadata": {},
   "outputs": [],
   "source": [
    "import pymongo\n",
    "from pymatgen import Structure\n",
    "import json\n",
    "\n",
    "N = 10000\n",
    "MAX_SITES = 64 # max number of sites in structure\n",
    "\n",
    "client = pymongo.MongoClient('mongodb://127.0.0.1:27018/')\n",
    "db = client['structureREST']\n",
    "\n",
    "source_collection = db['icsd']\n",
    "matminer_collection = db['matminer']\n",
    "stidy_collection = db['stidy']"
   ]
  },
  {
   "cell_type": "code",
   "execution_count": null,
   "metadata": {},
   "outputs": [],
   "source": [
    "soap_docs = []\n",
    "k = 1\n",
    "for source_doc in source_collection.find():\n",
    "    if len(source_doc['structure']['sites']) <= MAX_SITES:\n",
    "        structure = Structure.from_dict(source_doc['structure'])\n",
    "        if structure.is_ordered:\n",
    "            matminer_doc = matminer_collection.find_one({'source_id': source_doc['_id'],\n",
    "                                                         'matminer_fingerprint': {'$ne': None}})\n",
    "            stidy_doc = stidy_collection.find_one({'source_id': source_doc['_id'],\n",
    "                                                   'stidy_fingerprint': {'$ne': None}})\n",
    "            if matminer_doc and stidy_doc:\n",
    "                matminer_doc['_id'] = str(matminer_doc['_id'])\n",
    "                matminer_doc['source_id'] = str(matminer_doc['source_id'])\n",
    "\n",
    "                stidy_doc['_id'] = str(stidy_doc['_id'])\n",
    "                stidy_doc['source_id'] = str(stidy_doc['source_id'])\n",
    "\n",
    "                soap_doc = {'matminer': matminer_doc,\n",
    "                            'stidy_doc': stidy_doc,\n",
    "                            'structure': source_doc['structure']}\n",
    "                soap_docs.append(soap_doc)\n",
    "                if not len(soap_docs) % 100:\n",
    "                    print '{}'.format(len(soap_docs)),\n",
    "                if len(soap_docs) == 1000:\n",
    "                    print '\\nDumping {}'.format(k)\n",
    "                    with open('soap_docs_new_{}.json'.format(k), 'w') as f:\n",
    "                        json.dump(soap_docs, f)\n",
    "                    k += 1\n",
    "                    soap_docs = []"
   ]
  },
  {
   "cell_type": "code",
   "execution_count": null,
   "metadata": {},
   "outputs": [],
   "source": [
    "soap_docs = []\n",
    "for sj in glob('soap_docs_new*.json'):\n",
    "    with open(sj, 'r') as f:\n",
    "        soap_docs += json.load(f)\n",
    "\n",
    "with open('soap_docs_new.json'.format(k), 'w') as f:\n",
    "    json.dump(soap_docs, f)"
   ]
  },
  {
   "cell_type": "code",
   "execution_count": null,
   "metadata": {},
   "outputs": [],
   "source": [
    "from glob import glob\n",
    "for soap_json in glob('soap_docs_new.json'):\n",
    "    soap_docs_mod = []\n",
    "    with open(soap_json, 'r') as f:\n",
    "        soap_docs = json.load(f)\n",
    "    for soap_doc in soap_docs:\n",
    "        soap_doc['space_group'] = int(soap_doc['stidy_doc']['stidy_fingerprint'].split('_')[0])\n",
    "        soap_doc['n_sites'] = len(soap_doc['structure']['sites'])\n",
    "        soap_doc['stidy_fingerprint'] = soap_doc['stidy_doc']['stidy_fingerprint']\n",
    "        soap_docs_mod.append(soap_doc)\n",
    "    with open(soap_json.split('.')[0]+'_mod.json', 'w') as f:\n",
    "        json.dump(soap_docs_mod, f)"
   ]
  },
  {
   "cell_type": "code",
   "execution_count": null,
   "metadata": {},
   "outputs": [],
   "source": [
    "for soap_json in glob('soap_docs_new_*mod.json'):\n",
    "    all_docs = []\n",
    "    with open(soap_json, 'r') as f:\n",
    "        soap_docs = json.load(f)\n",
    "    all_docs += soap_docs\n",
    "all_df = pd.DataFrame(all_docs)\n",
    "all_df.to_json('all_soap_docs.json')"
   ]
  },
  {
   "cell_type": "markdown",
   "metadata": {},
   "source": [
    "---"
   ]
  },
  {
   "cell_type": "code",
   "execution_count": 14,
   "metadata": {},
   "outputs": [],
   "source": [
    "# soap_param = dict(nocenters=[], chem_channels=False, centerweight=1.0, \n",
    "#                   gaussian_width=0.4, cutoff=3., cutoff_transition_width=0.5, \n",
    "#                   nmax=20, lmax=8, nprocess=8, spkitMax=spkitMax,\n",
    "#                   dispbar=True, is_fast_average=False)"
   ]
  },
  {
   "cell_type": "code",
   "execution_count": 15,
   "metadata": {},
   "outputs": [
    {
     "name": "stderr",
     "output_type": "stream",
     "text": [
      "/home/azadoks/miniconda3/envs/python2/lib/python2.7/site-packages/pymatgen/__init__.py:87: UserWarning: \n",
      "Pymatgen will drop Py2k support from v2019.1.1. Pls consult the documentation\n",
      "at https://www.pymatgen.org for more details.\n",
      "  at https://www.pymatgen.org for more details.\"\"\")\n"
     ]
    }
   ],
   "source": [
    "from sys import path\n",
    "path.insert(0,'/home/azadoks/git/glosim2/')\n",
    "import libmatch.soap\n",
    "import soap_utils\n",
    "import zoap\n",
    "import json\n",
    "from pymatgen import Structure\n",
    "import numpy as np\n",
    "import multiprocessing as mp\n",
    "from fractions import gcd\n",
    "from itertools import chain, product, combinations\n",
    "import hdbscan\n",
    "import pandas as pd\n",
    "import json"
   ]
  },
  {
   "cell_type": "code",
   "execution_count": 26,
   "metadata": {},
   "outputs": [],
   "source": [
    "soap_df = pd.read_json('data/soap_docs_new_mod.json')"
   ]
  },
  {
   "cell_type": "code",
   "execution_count": 28,
   "metadata": {},
   "outputs": [],
   "source": [
    "space_groups = [2, 14, 62, 139, 194, 221, 225]\n",
    "soap_df_sg = soap_df.loc[soap_df['space_group'].isin(space_groups)]"
   ]
  },
  {
   "cell_type": "code",
   "execution_count": 33,
   "metadata": {
    "scrolled": true
   },
   "outputs": [
    {
     "ename": "TypeError",
     "evalue": "'NoneType' object has no attribute '__getitem__'",
     "output_type": "error",
     "traceback": [
      "\u001b[0;31m---------------------------------------------------------------------------\u001b[0m",
      "\u001b[0;31mTypeError\u001b[0m                                 Traceback (most recent call last)",
      "\u001b[0;32m<ipython-input-33-3b111b56623d>\u001b[0m in \u001b[0;36m<module>\u001b[0;34m()\u001b[0m\n\u001b[0;32m----> 1\u001b[0;31m \u001b[0mget_ipython\u001b[0m\u001b[0;34m(\u001b[0m\u001b[0;34m)\u001b[0m\u001b[0;34m.\u001b[0m\u001b[0mrun_cell_magic\u001b[0m\u001b[0;34m(\u001b[0m\u001b[0;34mu'time'\u001b[0m\u001b[0;34m,\u001b[0m \u001b[0;34mu''\u001b[0m\u001b[0;34m,\u001b[0m \u001b[0;34mu\"soap_structures = soap_df_sg['structure'].tolist()\\nsoap_vector_sets = zoap.zoap(soap_structures, nmax=10, lmax=8)\"\u001b[0m\u001b[0;34m)\u001b[0m\u001b[0;34m\u001b[0m\u001b[0m\n\u001b[0m",
      "\u001b[0;32m/home/azadoks/miniconda3/envs/python2/lib/python2.7/site-packages/IPython/core/interactiveshell.pyc\u001b[0m in \u001b[0;36mrun_cell_magic\u001b[0;34m(self, magic_name, line, cell)\u001b[0m\n\u001b[1;32m   2115\u001b[0m             \u001b[0mmagic_arg_s\u001b[0m \u001b[0;34m=\u001b[0m \u001b[0mself\u001b[0m\u001b[0;34m.\u001b[0m\u001b[0mvar_expand\u001b[0m\u001b[0;34m(\u001b[0m\u001b[0mline\u001b[0m\u001b[0;34m,\u001b[0m \u001b[0mstack_depth\u001b[0m\u001b[0;34m)\u001b[0m\u001b[0;34m\u001b[0m\u001b[0m\n\u001b[1;32m   2116\u001b[0m             \u001b[0;32mwith\u001b[0m \u001b[0mself\u001b[0m\u001b[0;34m.\u001b[0m\u001b[0mbuiltin_trap\u001b[0m\u001b[0;34m:\u001b[0m\u001b[0;34m\u001b[0m\u001b[0m\n\u001b[0;32m-> 2117\u001b[0;31m                 \u001b[0mresult\u001b[0m \u001b[0;34m=\u001b[0m \u001b[0mfn\u001b[0m\u001b[0;34m(\u001b[0m\u001b[0mmagic_arg_s\u001b[0m\u001b[0;34m,\u001b[0m \u001b[0mcell\u001b[0m\u001b[0;34m)\u001b[0m\u001b[0;34m\u001b[0m\u001b[0m\n\u001b[0m\u001b[1;32m   2118\u001b[0m             \u001b[0;32mreturn\u001b[0m \u001b[0mresult\u001b[0m\u001b[0;34m\u001b[0m\u001b[0m\n\u001b[1;32m   2119\u001b[0m \u001b[0;34m\u001b[0m\u001b[0m\n",
      "\u001b[0;32m<decorator-gen-60>\u001b[0m in \u001b[0;36mtime\u001b[0;34m(self, line, cell, local_ns)\u001b[0m\n",
      "\u001b[0;32m/home/azadoks/miniconda3/envs/python2/lib/python2.7/site-packages/IPython/core/magic.pyc\u001b[0m in \u001b[0;36m<lambda>\u001b[0;34m(f, *a, **k)\u001b[0m\n\u001b[1;32m    186\u001b[0m     \u001b[0;31m# but it's overkill for just that one bit of state.\u001b[0m\u001b[0;34m\u001b[0m\u001b[0;34m\u001b[0m\u001b[0m\n\u001b[1;32m    187\u001b[0m     \u001b[0;32mdef\u001b[0m \u001b[0mmagic_deco\u001b[0m\u001b[0;34m(\u001b[0m\u001b[0marg\u001b[0m\u001b[0;34m)\u001b[0m\u001b[0;34m:\u001b[0m\u001b[0;34m\u001b[0m\u001b[0m\n\u001b[0;32m--> 188\u001b[0;31m         \u001b[0mcall\u001b[0m \u001b[0;34m=\u001b[0m \u001b[0;32mlambda\u001b[0m \u001b[0mf\u001b[0m\u001b[0;34m,\u001b[0m \u001b[0;34m*\u001b[0m\u001b[0ma\u001b[0m\u001b[0;34m,\u001b[0m \u001b[0;34m**\u001b[0m\u001b[0mk\u001b[0m\u001b[0;34m:\u001b[0m \u001b[0mf\u001b[0m\u001b[0;34m(\u001b[0m\u001b[0;34m*\u001b[0m\u001b[0ma\u001b[0m\u001b[0;34m,\u001b[0m \u001b[0;34m**\u001b[0m\u001b[0mk\u001b[0m\u001b[0;34m)\u001b[0m\u001b[0;34m\u001b[0m\u001b[0m\n\u001b[0m\u001b[1;32m    189\u001b[0m \u001b[0;34m\u001b[0m\u001b[0m\n\u001b[1;32m    190\u001b[0m         \u001b[0;32mif\u001b[0m \u001b[0mcallable\u001b[0m\u001b[0;34m(\u001b[0m\u001b[0marg\u001b[0m\u001b[0;34m)\u001b[0m\u001b[0;34m:\u001b[0m\u001b[0;34m\u001b[0m\u001b[0m\n",
      "\u001b[0;32m/home/azadoks/miniconda3/envs/python2/lib/python2.7/site-packages/IPython/core/magics/execution.pyc\u001b[0m in \u001b[0;36mtime\u001b[0;34m(self, line, cell, local_ns)\u001b[0m\n\u001b[1;32m   1191\u001b[0m         \u001b[0;32melse\u001b[0m\u001b[0;34m:\u001b[0m\u001b[0;34m\u001b[0m\u001b[0m\n\u001b[1;32m   1192\u001b[0m             \u001b[0mst\u001b[0m \u001b[0;34m=\u001b[0m \u001b[0mclock2\u001b[0m\u001b[0;34m(\u001b[0m\u001b[0;34m)\u001b[0m\u001b[0;34m\u001b[0m\u001b[0m\n\u001b[0;32m-> 1193\u001b[0;31m             \u001b[0;32mexec\u001b[0m\u001b[0;34m(\u001b[0m\u001b[0mcode\u001b[0m\u001b[0;34m,\u001b[0m \u001b[0mglob\u001b[0m\u001b[0;34m,\u001b[0m \u001b[0mlocal_ns\u001b[0m\u001b[0;34m)\u001b[0m\u001b[0;34m\u001b[0m\u001b[0m\n\u001b[0m\u001b[1;32m   1194\u001b[0m             \u001b[0mend\u001b[0m \u001b[0;34m=\u001b[0m \u001b[0mclock2\u001b[0m\u001b[0;34m(\u001b[0m\u001b[0;34m)\u001b[0m\u001b[0;34m\u001b[0m\u001b[0m\n\u001b[1;32m   1195\u001b[0m             \u001b[0mout\u001b[0m \u001b[0;34m=\u001b[0m \u001b[0mNone\u001b[0m\u001b[0;34m\u001b[0m\u001b[0m\n",
      "\u001b[0;32m<timed exec>\u001b[0m in \u001b[0;36m<module>\u001b[0;34m()\u001b[0m\n",
      "\u001b[0;32m/home/azadoks/git/structureREST/zocrys/soap/zoap.pyc\u001b[0m in \u001b[0;36mzoap\u001b[0;34m(structures, symprec, **kwargs)\u001b[0m\n\u001b[1;32m     42\u001b[0m     \u001b[0mcells\u001b[0m \u001b[0;34m=\u001b[0m \u001b[0;34m[\u001b[0m\u001b[0mstructure2cell\u001b[0m\u001b[0;34m(\u001b[0m\u001b[0mstructure\u001b[0m\u001b[0;34m,\u001b[0m \u001b[0mTrue\u001b[0m\u001b[0;34m)\u001b[0m \u001b[0;32mfor\u001b[0m \u001b[0mstructure\u001b[0m \u001b[0;32min\u001b[0m \u001b[0mstructures\u001b[0m\u001b[0;34m]\u001b[0m\u001b[0;34m\u001b[0m\u001b[0m\n\u001b[1;32m     43\u001b[0m     \u001b[0mprimitive_cells\u001b[0m \u001b[0;34m=\u001b[0m \u001b[0;34m[\u001b[0m\u001b[0mstandardize_cell\u001b[0m\u001b[0;34m(\u001b[0m\u001b[0mcell\u001b[0m\u001b[0;34m,\u001b[0m \u001b[0mto_primitive\u001b[0m\u001b[0;34m=\u001b[0m\u001b[0mTrue\u001b[0m\u001b[0;34m,\u001b[0m \u001b[0msymprec\u001b[0m\u001b[0;34m=\u001b[0m\u001b[0msymprec\u001b[0m\u001b[0;34m)\u001b[0m \u001b[0;32mfor\u001b[0m \u001b[0mcell\u001b[0m \u001b[0;32min\u001b[0m \u001b[0mcells\u001b[0m\u001b[0;34m]\u001b[0m\u001b[0;34m\u001b[0m\u001b[0m\n\u001b[0;32m---> 44\u001b[0;31m     \u001b[0mprimitive_structures\u001b[0m \u001b[0;34m=\u001b[0m \u001b[0;34m[\u001b[0m\u001b[0mcell2structure\u001b[0m\u001b[0;34m(\u001b[0m\u001b[0mcell\u001b[0m\u001b[0;34m)\u001b[0m \u001b[0;32mfor\u001b[0m \u001b[0mcell\u001b[0m \u001b[0;32min\u001b[0m \u001b[0mprimitive_cells\u001b[0m\u001b[0;34m]\u001b[0m\u001b[0;34m\u001b[0m\u001b[0m\n\u001b[0m\u001b[1;32m     45\u001b[0m     \u001b[0matoms_objects\u001b[0m \u001b[0;34m=\u001b[0m \u001b[0;34m[\u001b[0m\u001b[0mAseAtomsAdaptor\u001b[0m\u001b[0;34m.\u001b[0m\u001b[0mget_atoms\u001b[0m\u001b[0;34m(\u001b[0m\u001b[0mstructure\u001b[0m\u001b[0;34m)\u001b[0m \u001b[0;32mfor\u001b[0m \u001b[0mstructure\u001b[0m \u001b[0;32min\u001b[0m \u001b[0mprimitive_structures\u001b[0m\u001b[0;34m]\u001b[0m\u001b[0;34m\u001b[0m\u001b[0m\n\u001b[1;32m     46\u001b[0m     \u001b[0mqps\u001b[0m \u001b[0;34m=\u001b[0m \u001b[0;34m[\u001b[0m\u001b[0mase2qp\u001b[0m\u001b[0;34m(\u001b[0m\u001b[0matoms\u001b[0m\u001b[0;34m)\u001b[0m \u001b[0;32mfor\u001b[0m \u001b[0matoms\u001b[0m \u001b[0;32min\u001b[0m \u001b[0matoms_objects\u001b[0m\u001b[0;34m]\u001b[0m\u001b[0;34m\u001b[0m\u001b[0m\n",
      "\u001b[0;32m/home/azadoks/git/structureREST/zocrys/soap/zoap.pyc\u001b[0m in \u001b[0;36mcell2structure\u001b[0;34m(cell)\u001b[0m\n\u001b[1;32m     27\u001b[0m \u001b[0;34m\u001b[0m\u001b[0m\n\u001b[1;32m     28\u001b[0m \u001b[0;32mdef\u001b[0m \u001b[0mcell2structure\u001b[0m\u001b[0;34m(\u001b[0m\u001b[0mcell\u001b[0m\u001b[0;34m)\u001b[0m\u001b[0;34m:\u001b[0m\u001b[0;34m\u001b[0m\u001b[0m\n\u001b[0;32m---> 29\u001b[0;31m     \u001b[0;32mreturn\u001b[0m \u001b[0mStructure\u001b[0m\u001b[0;34m(\u001b[0m\u001b[0mcell\u001b[0m\u001b[0;34m[\u001b[0m\u001b[0;36m0\u001b[0m\u001b[0;34m]\u001b[0m\u001b[0;34m,\u001b[0m \u001b[0mcell\u001b[0m\u001b[0;34m[\u001b[0m\u001b[0;36m2\u001b[0m\u001b[0;34m]\u001b[0m\u001b[0;34m,\u001b[0m \u001b[0mcell\u001b[0m\u001b[0;34m[\u001b[0m\u001b[0;36m1\u001b[0m\u001b[0;34m]\u001b[0m\u001b[0;34m)\u001b[0m\u001b[0;34m\u001b[0m\u001b[0m\n\u001b[0m\u001b[1;32m     30\u001b[0m \u001b[0;34m\u001b[0m\u001b[0m\n\u001b[1;32m     31\u001b[0m \u001b[0;32mdef\u001b[0m \u001b[0mstandardize_dict\u001b[0m\u001b[0;34m(\u001b[0m\u001b[0margs\u001b[0m\u001b[0;34m)\u001b[0m\u001b[0;34m:\u001b[0m\u001b[0;34m\u001b[0m\u001b[0m\n",
      "\u001b[0;31mTypeError\u001b[0m: 'NoneType' object has no attribute '__getitem__'"
     ]
    }
   ],
   "source": [
    "%%time\n",
    "soap_structures = soap_df_sg['structure'].tolist()\n",
    "soap_vector_sets = zoap.zoap(soap_structures, nmax=10, lmax=8)"
   ]
  },
  {
   "cell_type": "code",
   "execution_count": null,
   "metadata": {},
   "outputs": [],
   "source": [
    "def dist_wrapper(vects):\n",
    "    return zoap.average_distance(*vects)"
   ]
  },
  {
   "cell_type": "code",
   "execution_count": null,
   "metadata": {},
   "outputs": [],
   "source": [
    "svs_combis = []\n",
    "for i, x in enumerate(soap_vector_sets):\n",
    "    for j, y in enumerate(soap_vector_sets):\n",
    "        svs_combis.append((x, y))\n",
    "pool = mp.Pool()\n",
    "average_distances = pool.map(dist_wrapper, svs_combis)\n",
    "distance_matrix = np.array(average_distances).reshape((len(soap_vector_sets), len(soap_vector_sets)))\n",
    "pool.close()\n",
    "pool.join()"
   ]
  },
  {
   "cell_type": "code",
   "execution_count": null,
   "metadata": {},
   "outputs": [],
   "source": [
    "# pool = mp.Pool()\n",
    "# svs_combis = [(i, j) for x, i in enumerate(soap_vector_sets) for y, j in enumerate(soap_vector_sets) if x != y]\n",
    "# average_distances = pool.map(dist_wrapper, svs_combis)\n",
    "# pool.close()\n",
    "# pool.join()\n",
    "# # =======\n",
    "# svs_combis = []\n",
    "# for i, x in enumerate(soap_vector_sets):\n",
    "#     for j, y in enumerate(soap_vector_sets[i:]):\n",
    "#         if i == j:\n",
    "#             svs_combis.append((None, None))\n",
    "#         else:\n",
    "#             svs_combis.append((x, y))\n",
    "# average_distances = pool.map()"
   ]
  },
  {
   "cell_type": "markdown",
   "metadata": {},
   "source": [
    "---"
   ]
  },
  {
   "cell_type": "code",
   "execution_count": null,
   "metadata": {},
   "outputs": [],
   "source": [
    "from sklearn.decomposition import PCA\n",
    "## nmax = 20\n",
    "## lmax = 10\n",
    "# 37 > 0.999\n",
    "# 19 > 0.99\n",
    "# 6 > 0.9\n",
    "# 3 > 0.8\n",
    "all_vectors = np.concatenate(np.array([svs.values() for svs in soap_vector_sets]))\n",
    "pca = PCA(n_components=19)\n",
    "pc = pca.fit_transform(all_vectors)\n",
    "pca.explained_variance_ratio_.cumsum()"
   ]
  },
  {
   "cell_type": "code",
   "execution_count": null,
   "metadata": {},
   "outputs": [],
   "source": []
  }
 ],
 "metadata": {
  "kernelspec": {
   "display_name": "Python 2",
   "language": "python",
   "name": "python2"
  },
  "language_info": {
   "codemirror_mode": {
    "name": "ipython",
    "version": 3
   },
   "file_extension": ".py",
   "mimetype": "text/x-python",
   "name": "python",
   "nbconvert_exporter": "python",
   "pygments_lexer": "ipython3",
   "version": "3.6.5"
  }
 },
 "nbformat": 4,
 "nbformat_minor": 2
}
