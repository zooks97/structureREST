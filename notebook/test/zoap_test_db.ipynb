{
 "cells": [
  {
   "cell_type": "code",
   "execution_count": null,
   "metadata": {},
   "outputs": [],
   "source": [
    "from sys import path\n",
    "path.insert(0, '/home/azadoks/git/glosim2/')\n",
    "path.insert(0, '/home/azadoks/git/structureREST/zocrys/lib/')\n",
    "from collections import OrderedDict\n",
    "from libmatch.soap import get_Soaps\n",
    "import numpy as np\n",
    "import zoap\n",
    "import pymongo"
   ]
  },
  {
   "cell_type": "code",
   "execution_count": null,
   "metadata": {},
   "outputs": [],
   "source": [
    "client = pymongo.MongoClient('mongodb://127.0.0.1:27018/')\n",
    "db = client['structureREST']\n",
    "\n",
    "icsd_coll = db['icsd']\n",
    "cod_coll = db['cod']\n",
    "mpds_coll = db['mpds']\n",
    "\n",
    "stidy_coll = db['stidy']\n",
    "matminer_coll = db['matminer']\n",
    "soap_coll = db['soap']\n",
    "\n",
    "qp_coll = db['qp']"
   ]
  },
  {
   "cell_type": "code",
   "execution_count": null,
   "metadata": {},
   "outputs": [],
   "source": [
    "for source_collection in [icsd_coll, mpds_coll, cod_coll]:\n",
    "    for source_doc in source_collection.find()"
   ]
  }
 ],
 "metadata": {
  "kernelspec": {
   "display_name": "Python 2",
   "language": "python",
   "name": "python2"
  },
  "language_info": {
   "codemirror_mode": {
    "name": "ipython",
    "version": 2
   },
   "file_extension": ".py",
   "mimetype": "text/x-python",
   "name": "python",
   "nbconvert_exporter": "python",
   "pygments_lexer": "ipython2",
   "version": "2.7.15"
  }
 },
 "nbformat": 4,
 "nbformat_minor": 2
}
