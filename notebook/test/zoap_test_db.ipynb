{
 "cells": [
  {
   "cell_type": "code",
   "execution_count": 2,
   "metadata": {},
   "outputs": [],
   "source": [
    "from sys import path\n",
    "path.insert(0, '/home/azadoks/git/glosim2/')\n",
    "path.insert(0, '/home/azadoks/git/structureREST/lib/')\n",
    "from collections import OrderedDict\n",
    "from libmatch.soap import get_Soaps\n",
    "from multiprocessing import Pool, cpu_count\n",
    "from quippy.io import AtomsWriter\n",
    "from json import loads\n",
    "from os import remove\n",
    "import numpy as np\n",
    "import cStringIO\n",
    "import gzip\n",
    "import zoap\n",
    "# import quippy_utils\n",
    "import pymongo"
   ]
  },
  {
   "cell_type": "code",
   "execution_count": 3,
   "metadata": {},
   "outputs": [],
   "source": [
    "client = pymongo.MongoClient('mongodb://127.0.0.1:27018/')\n",
    "db = client['structureREST']\n",
    "\n",
    "icsd_coll = db['icsd']\n",
    "cod_coll = db['cod']\n",
    "mpds_coll = db['mpds']\n",
    "\n",
    "stidy_coll = db['stidy']\n",
    "matminer_coll = db['matminer']\n",
    "soap_coll = db['soap']\n",
    "\n",
    "args_coll = db['args']"
   ]
  },
  {
   "cell_type": "code",
   "execution_count": 5,
   "metadata": {},
   "outputs": [
    {
     "name": "stdout",
     "output_type": "stream",
     "text": [
      "('collection', 'icsd')\n",
      "('<=64', 148531)\n",
      "('ordered', 87584)\n",
      "('collection', 'mpds')\n",
      "('<=64', 51072)\n",
      "('ordered', 41974)\n",
      "('collection', 'cod')\n",
      "('<=64', 62113)\n",
      "('ordered', 42205)\n"
     ]
    }
   ],
   "source": [
    "from pymatgen import Structure\n",
    "for name, coll in {'icsd': icsd_coll, 'cod': cod_coll, 'mpds': mpds_coll}.items():\n",
    "    print('collection', name)\n",
    "    print('<=64', coll.find({'n_sites': {'$lte': 64}}).count())\n",
    "    count = 0\n",
    "    for doc in coll.find({'n_sites': {'$lte': 64}}):\n",
    "        structure = Structure.from_dict(doc['structure'])\n",
    "        if structure.is_ordered:\n",
    "            count +=1 \n",
    "    print('ordered', count)"
   ]
  },
  {
   "cell_type": "code",
   "execution_count": 18,
   "metadata": {},
   "outputs": [],
   "source": [
    "N_CPUS = cpu_count()\n",
    "# Anonymize _greatly_ speeds up SOAP calculations\n",
    "#     at the loss of species\n",
    "# If structures are not already primitive,\n",
    "#     primitivize can speed up SOAP calculations by\n",
    "#     reducing the number of sites in the cell\n",
    "quippy_args = {'anonymize': True, 'scale': True,\n",
    "               'standardize': True, 'primitivize': True,\n",
    "               'symprec': 1e-3}\n",
    "\n",
    "soap_args = {'nocenters': None, 'chem_channels': False,\n",
    "             'centerweight': 1.0, 'gaussian_width': 0.5,\n",
    "             'cutoff': 3.5, 'cutoff_transition_width': 0.5,\n",
    "             'nmax': 8, 'lmax': 6,\n",
    "             'spkitMax': None, 'chemicalProjection': None,\n",
    "             'is_fast_average': False}\n",
    "\n",
    "args_doc = {'structure2quippy': quippy_args,\n",
    "            'soap': soap_args}\n",
    "args_result = args_coll.insert_one(args_doc)\n",
    "args_id = args_result.inserted_id"
   ]
  },
  {
   "cell_type": "code",
   "execution_count": 19,
   "metadata": {},
   "outputs": [],
   "source": [
    "def structure2quippy_wrap(structure):\n",
    "    '''Wrapper to use zoap.structure2qp with multiprocessing.Pool.map() or pandas.DataFrame.apply()'''\n",
    "    return zoap.structure2quippy(structure, from_dict=True, **quippy_args)"
   ]
  },
  {
   "cell_type": "code",
   "execution_count": 10,
   "metadata": {},
   "outputs": [
    {
     "data": {
      "application/vnd.jupyter.widget-view+json": {
       "model_id": "0a8e77bfe3094063a7e10614d940ed8e",
       "version_major": 2,
       "version_minor": 0
      },
      "text/plain": [
       "HBox(children=(IntProgress(value=0, description=u'SOAP vectors'), HTML(value=u'')))"
      ]
     },
     "metadata": {},
     "output_type": "display_data"
    },
    {
     "name": "stdout",
     "output_type": "stream",
     "text": [
      "\n",
      "100\n"
     ]
    },
    {
     "ename": "Exception",
     "evalue": "Done",
     "output_type": "error",
     "traceback": [
      "\u001b[0;31m---------------------------------------------------------------------------\u001b[0m",
      "\u001b[0;31mException\u001b[0m                                 Traceback (most recent call last)",
      "\u001b[0;32m<ipython-input-10-8448676136e7>\u001b[0m in \u001b[0;36m<module>\u001b[0;34m()\u001b[0m\n\u001b[1;32m     44\u001b[0m         \u001b[0;32mprint\u001b[0m\u001b[0;34m(\u001b[0m\u001b[0mlen\u001b[0m\u001b[0;34m(\u001b[0m\u001b[0mresult\u001b[0m\u001b[0;34m.\u001b[0m\u001b[0minserted_ids\u001b[0m\u001b[0;34m)\u001b[0m\u001b[0;34m)\u001b[0m\u001b[0;34m\u001b[0m\u001b[0m\n\u001b[1;32m     45\u001b[0m         \u001b[0;31m# del source_docs, quippies, soaps, soap_docs, result\u001b[0m\u001b[0;34m\u001b[0m\u001b[0;34m\u001b[0m\u001b[0m\n\u001b[0;32m---> 46\u001b[0;31m         \u001b[0;32mraise\u001b[0m \u001b[0mException\u001b[0m\u001b[0;34m(\u001b[0m\u001b[0;34m'Done'\u001b[0m\u001b[0;34m)\u001b[0m\u001b[0;34m\u001b[0m\u001b[0m\n\u001b[0m\u001b[1;32m     47\u001b[0m         \u001b[0mpool\u001b[0m\u001b[0;34m.\u001b[0m\u001b[0mjoin\u001b[0m\u001b[0;34m(\u001b[0m\u001b[0;34m)\u001b[0m\u001b[0;34m\u001b[0m\u001b[0m\n\u001b[1;32m     48\u001b[0m         \u001b[0mpool\u001b[0m\u001b[0;34m.\u001b[0m\u001b[0mclose\u001b[0m\u001b[0;34m(\u001b[0m\u001b[0;34m)\u001b[0m\u001b[0;34m\u001b[0m\u001b[0m\n",
      "\u001b[0;31mException\u001b[0m: Done"
     ]
    }
   ],
   "source": [
    "chunk_size = 100\n",
    "colls = {'icsd': icsd_coll, 'mpds': mpds_coll, 'cod': cod_coll}\n",
    "for source_name, source_coll in colls.iteritems():\n",
    "    # query database + get info\n",
    "    source_find = source_coll.find({'n_sites': {'$lte': 128}}, \n",
    "                                   projection=['structure'],\n",
    "                                   modifiers={'$snapshot': True},\n",
    "                                   batch_size=chunk_size)\n",
    "    source_count = source_find.count()\n",
    "    # create persistent objects\n",
    "    pool = Pool(processes=N_CPUS)\n",
    "    quippy_writer = AtomsWriter('string', format='string')\n",
    "    # get bounds indices for chunks\n",
    "    chunk_indices = zoap.get_chunk_indices(source_count, chunk_size)\n",
    "    for indices in chunk_indices:\n",
    "        # grab source docs chunk\n",
    "        source_docs = np.array(list(source_find[indices[0]: indices[1]]))\n",
    "        # convert Structures to Atoms      \n",
    "        quippies = np.array(pool.map(structure2quippy_wrap, [d['structure'] for d in source_docs]))\n",
    "        # remove dud (probably disordered) structure entries\n",
    "        source_docs = source_docs[np.where(quippies != None)]\n",
    "        quippies = quippies[np.where(quippies != None)]\n",
    "        # write quippy atoms to strings using extended xyz format\n",
    "        quippy_strs = [quippy_writer.write(quippy) for quippy in quippies]\n",
    "        # calculate soaps ([OrderedDict[(str, np.ndarray([float]))]])\n",
    "        soaps = get_Soaps(quippies, nprocess=N_CPUS, dispbar=False, **soap_args)\n",
    "        # prepare soaps for serialization\n",
    "        soaps = [{key: value.tolist() for key, value in soap.iteritems()} for soap in soaps]\n",
    "        # TODO: fix too large source documents (soaps)\n",
    "        # create soap docs\n",
    "        soap_docs = [{'soap': soap, 'quippy': quippy_str,\n",
    "                      'source_id': source_doc['_id'],\n",
    "                      'source_collection': source_name,\n",
    "                      'args_id': args_id}\n",
    "                     for soap, quippy_str, source_doc in \n",
    "                         zip(soaps, quippy_strs, source_docs)]\n",
    "#         soap_docs = [{'soap': soap,\n",
    "#                       'source_id': source_doc['_id'],\n",
    "#                       'source_collection': source_name,\n",
    "#                       'args_id': args_id}\n",
    "#                      for soap, source_doc in \n",
    "#                          zip(soaps, source_docs)]  # create soap docs\n",
    "        result = soap_coll.insert_many(soap_docs)\n",
    "        print(len(result.inserted_ids))\n",
    "        # del source_docs, quippies, soaps, soap_docs, result\n",
    "        raise Exception('Done')\n",
    "        pool.join()\n",
    "        pool.close()\n",
    "        quippy_writer.close()"
   ]
  },
  {
   "cell_type": "code",
   "execution_count": null,
   "metadata": {},
   "outputs": [],
   "source": []
  }
 ],
 "metadata": {
  "kernelspec": {
   "display_name": "Python 2",
   "language": "python",
   "name": "python2"
  },
  "language_info": {
   "codemirror_mode": {
    "name": "ipython",
    "version": 2
   },
   "file_extension": ".py",
   "mimetype": "text/x-python",
   "name": "python",
   "nbconvert_exporter": "python",
   "pygments_lexer": "ipython2",
   "version": "2.7.15"
  }
 },
 "nbformat": 4,
 "nbformat_minor": 2
}
