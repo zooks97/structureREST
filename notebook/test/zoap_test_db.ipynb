{
 "cells": [
  {
   "cell_type": "code",
   "execution_count": null,
   "metadata": {},
   "outputs": [],
   "source": [
    "from sys import path\n",
    "path.insert(0, '/home/azadoks/git/glosim2/')\n",
    "path.insert(0, '/home/azadoks/git/structureREST/zocrys/lib/')\n",
    "from collections import OrderedDict\n",
    "from libmatch.soap import get_Soaps\n",
    "from multiprocessing import Pool, n_cpus\n",
    "import numpy as np\n",
    "import zoap\n",
    "import pymongo"
   ]
  },
  {
   "cell_type": "code",
   "execution_count": 1,
   "metadata": {},
   "outputs": [],
   "source": [
    "def get_chunk_indices(total_size, chunk_size):\n",
    "    '''\n",
    "    Generate list of index tuples to chunk up a big set of data\n",
    "    Args:\n",
    "        total_size (int): number of items in big set\n",
    "        chunk_size (int): number of items in all but the last chunk set\n",
    "    Returns:\n",
    "        [(int, int)]: list of index tuples\n",
    "    '''\n",
    "    i = 0\n",
    "    indices = []\n",
    "    while i < total_size:\n",
    "        indices.append((i, i+chunk_size))\n",
    "        i += chunk_size\n",
    "    return indices"
   ]
  },
  {
   "cell_type": "code",
   "execution_count": null,
   "metadata": {},
   "outputs": [],
   "source": [
    "client = pymongo.MongoClient('mongodb://127.0.0.1:27018/')\n",
    "db = client['structureREST']\n",
    "\n",
    "icsd_coll = db['icsd']\n",
    "cod_coll = db['cod']\n",
    "mpds_coll = db['mpds']\n",
    "\n",
    "stidy_coll = db['stidy']\n",
    "matminer_coll = db['matminer']\n",
    "soap_coll = db['soap']\n",
    "\n",
    "args_coll = db['args']"
   ]
  },
  {
   "cell_type": "code",
   "execution_count": null,
   "metadata": {},
   "outputs": [],
   "source": [
    "# Anonymize _greatly_ speeds up SOAP calculation.\n",
    "# If structures are not already primitive,\n",
    "#     primitivize can speed up SOAP calculation.\n",
    "quippy_args = {'anonymize': True, 'scale': True,\n",
    "               'standardize': True, 'primitivize': True,\n",
    "               'symprec': 1e-3}\n",
    "\n",
    "soap_args = {'nocenters': None, 'chem_channels': False,\n",
    "             'centerweight': 1.0, 'gaussian_width': 0.5,\n",
    "             'cutoff': 3.5, 'cutoff_transition_width': 0.5,\n",
    "             'nmax': 8, 'lmax': 6,\n",
    "             'spkitMax': None, 'chemicalProjection': None,\n",
    "             'is_fast_average': False}\n",
    "\n",
    "args_doc = {'structure2quippy': quippy_args,\n",
    "            'soap': soap_args}\n",
    "args_result = args_coll.isert(args_doc)\n",
    "args_id = args_result.inserted_id"
   ]
  },
  {
   "cell_type": "code",
   "execution_count": null,
   "metadata": {},
   "outputs": [],
   "source": [
    "def structure2quippy_wrap(structure):\n",
    "    '''Wrapper to use zoap.structure2qp with multiprocessing.Pool.map() or pandas.DataFrame.apply()'''\n",
    "    return zoap.structure2quippy(structure, **quippy_args, from_dict=True)"
   ]
  },
  {
   "cell_type": "code",
   "execution_count": null,
   "metadata": {},
   "outputs": [],
   "source": [
    "chunk_size = 10000\n",
    "collections = {'icsd': icsd_coll, 'mpds': mpds_coll, 'cod': cod_coll}\n",
    "for source_name, source_coll in colls.iteritems():\n",
    "    source_find = source_coll.find(projection=['structure'])\n",
    "    source_count = source_coll.find.count()\n",
    "    pool = Pool(processes=n_cpus())\n",
    "    for indices in get_chunk_indices(source_count, chunk_size):\n",
    "        source_docs = list(source_find[indices[0], indices[1]])  # grab source docs chunk\n",
    "        quippies = pool.map(structure2qp_wrap, [d['structure']])  # convert Structures to Atoms\n",
    "        soaps = get_Soaps(quippies, **soap_args, nprocess=8, dispbar=False)  # calculate soaps\n",
    "        soap_docs = [{'soap': soap, 'quippy': quippy,\n",
    "                      'source_id': source_doc['_id'],\n",
    "                      'source_collection': source_name,\n",
    "                      'args_id': args_id} for soap, quippy in zip(soaps, quippies)]  # create soap docs\n",
    "        result = soap_coll.insert_many(soap_docs)\n",
    "        print(len(result.inserted_ids))\n",
    "        del source_docs, quippies, soaps, soap_docs, result\n",
    "    pool.join()\n",
    "    pool.close()"
   ]
  }
 ],
 "metadata": {
  "kernelspec": {
   "display_name": "Python 2",
   "language": "python",
   "name": "python2"
  },
  "language_info": {
   "codemirror_mode": {
    "name": "ipython",
    "version": 2
   },
   "file_extension": ".py",
   "mimetype": "text/x-python",
   "name": "python",
   "nbconvert_exporter": "python",
   "pygments_lexer": "ipython2",
   "version": "2.7.15"
  }
 },
 "nbformat": 4,
 "nbformat_minor": 2
}
