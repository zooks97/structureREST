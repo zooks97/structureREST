{
 "cells": [
  {
   "cell_type": "code",
   "execution_count": null,
   "metadata": {},
   "outputs": [],
   "source": [
    "from sys import path\n",
    "path.insert(0, '/home/azadoks/git/glosim2/')\n",
    "path.insert(0, '/home/azadoks/git/structureREST/lib/')\n",
    "from collections import OrderedDict\n",
    "from libmatch.soap import get_Soaps\n",
    "from multiprocessing import Pool, cpu_count\n",
    "from quippy.io import AtomsWriter\n",
    "from json import loads\n",
    "from os import remove\n",
    "import numpy as np\n",
    "import cStringIO\n",
    "import gzip\n",
    "import zoap\n",
    "import pymongo"
   ]
  },
  {
   "cell_type": "code",
   "execution_count": null,
   "metadata": {},
   "outputs": [],
   "source": [
    "client = pymongo.MongoClient('mongodb://127.0.0.1:27018/')\n",
    "db = client['structureREST']\n",
    "\n",
    "icsd_coll = db['icsd']\n",
    "cod_coll = db['cod']\n",
    "mpds_coll = db['mpds']\n",
    "\n",
    "stidy_coll = db['stidy']\n",
    "matminer_coll = db['matminer']\n",
    "soap_coll = db['soap']\n",
    "\n",
    "args_coll = db['args']"
   ]
  },
  {
   "cell_type": "code",
   "execution_count": null,
   "metadata": {},
   "outputs": [],
   "source": [
    "N_CPUS = cpu_count()\n",
    "# Anonymize _greatly_ speeds up SOAP calculations\n",
    "#     at the loss of species\n",
    "# If structures are not already primitive,\n",
    "#     primitivize can speed up SOAP calculations by\n",
    "#     reducing the number of sites in the cell\n",
    "quippy_args = {'anonymize': True, 'scale': True,\n",
    "               'standardize': True, 'primitivize': True,\n",
    "               'symprec': 1e-3}\n",
    "\n",
    "soap_args = {'nocenters': None, 'chem_channels': False,\n",
    "             'centerweight': 1.0, 'gaussian_width': 0.5,\n",
    "             'cutoff': 3.5, 'cutoff_transition_width': 0.5,\n",
    "             'nmax': 8, 'lmax': 6,\n",
    "             'spkitMax': None, 'chemicalProjection': None,\n",
    "             'is_fast_average': False}\n",
    "\n",
    "args_doc = {'structure2quippy': quippy_args,\n",
    "            'soap': soap_args}\n",
    "args_result = args_coll.insert_one(args_doc)\n",
    "args_id = args_result.inserted_id"
   ]
  },
  {
   "cell_type": "code",
   "execution_count": null,
   "metadata": {},
   "outputs": [],
   "source": [
    "def structure2quippy_wrap(structure):\n",
    "    '''Wrapper to use zoap.structure2qp with multiprocessing.Pool.map() or pandas.DataFrame.apply()'''\n",
    "    return zoap.structure2quippy(structure, from_dict=True, **quippy_args)"
   ]
  },
  {
   "cell_type": "code",
   "execution_count": null,
   "metadata": {},
   "outputs": [],
   "source": [
    "chunk_size = 100\n",
    "colls = {'icsd': icsd_coll, 'mpds': mpds_coll, 'cod': cod_coll}\n",
    "for source_name, source_coll in colls.iteritems():\n",
    "    # query database + get info\n",
    "    source_find = source_coll.find({'n_sites': {'$lte': 128}}, \n",
    "                                   projection=['structure'],\n",
    "                                   modifiers={'$snapshot': True},\n",
    "                                   batch_size=chunk_size)\n",
    "    source_count = source_find.count()\n",
    "    # create persistent objects\n",
    "    pool = Pool(processes=N_CPUS)\n",
    "    quippy_writer = AtomsWriter('string', format='string')\n",
    "    # get bounds indices for chunks\n",
    "    chunk_indices = zoap.get_chunk_indices(source_count, chunk_size)\n",
    "    for indices in chunk_indices:\n",
    "        # grab source docs chunk\n",
    "        source_docs = np.array(list(source_find[indices[0]: indices[1]]))\n",
    "        # convert Structures to Atoms      \n",
    "        quippies = np.array(pool.map(structure2quippy_wrap, [d['structure'] for d in source_docs]))\n",
    "        # remove dud (probably disordered) structure entries\n",
    "        source_docs = source_docs[np.where(quippies != None)]\n",
    "        quippies = quippies[np.where(quippies != None)]\n",
    "        # write quippy atoms to strings using extended xyz format\n",
    "        quippy_strs = [quippy_writer.write(quippy) for quippy in quippies]\n",
    "        # calculate soaps\n",
    "        calculate soaps ([OrderedDict[(str, np.ndarray([float]))]])\n",
    "        soaps = get_Soaps(quippies, nprocess=N_CPUS, dispbar=False, **soap_args)\n",
    "        # prepare soaps for serialization\n",
    "        soaps = [{key: value.tolist() for key, value in soap.iteritems()} for soap in soaps]\n",
    "        # TODO: fix too large source documents (soaps)\n",
    "        # create soap docs\n",
    "        soap_docs = [{'soap': soap, 'quippy': quippy_str,\n",
    "                      'source_id': source_doc['_id'],\n",
    "                      'source_collection': source_name,\n",
    "                      'args_id': args_id}\n",
    "                     for soap, quippy_str, source_doc in \n",
    "                         zip(soaps, quippy_strs, source_docs)]\n",
    "#         soap_docs = [{'soap': soap,\n",
    "#                       'source_id': source_doc['_id'],\n",
    "#                       'source_collection': source_name,\n",
    "#                       'args_id': args_id}\n",
    "#                      for soap, source_doc in \n",
    "#                          zip(soaps, source_docs)]  # create soap docs\n",
    "        result = soap_coll.insert_many(soap_docs)\n",
    "        print(len(result.inserted_ids))\n",
    "        del source_docs, quippies, soaps, soap_docs, result\n",
    "        raise Exception('Done')\n",
    "        pool.join()\n",
    "        pool.close()\n",
    "        quippy_writer.close()"
   ]
  },
  {
   "cell_type": "code",
   "execution_count": null,
   "metadata": {},
   "outputs": [],
   "source": []
  }
 ],
 "metadata": {
  "kernelspec": {
   "display_name": "Python 2",
   "language": "python",
   "name": "python2"
  },
  "language_info": {
   "codemirror_mode": {
    "name": "ipython",
    "version": 2
   },
   "file_extension": ".py",
   "mimetype": "text/x-python",
   "name": "python",
   "nbconvert_exporter": "python",
   "pygments_lexer": "ipython2",
   "version": "2.7.15"
  }
 },
 "nbformat": 4,
 "nbformat_minor": 2
}
