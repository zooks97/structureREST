{
 "cells": [
  {
   "cell_type": "code",
   "execution_count": 1,
   "metadata": {},
   "outputs": [
    {
     "name": "stderr",
     "output_type": "stream",
     "text": [
      "/home/azadoks/miniconda3/envs/python2/lib/python2.7/site-packages/pymatgen/__init__.py:87: UserWarning: \n",
      "Pymatgen will drop Py2k support from v2019.1.1. Pls consult the documentation\n",
      "at https://www.pymatgen.org for more details.\n",
      "  at https://www.pymatgen.org for more details.\"\"\")\n"
     ]
    }
   ],
   "source": [
    "from sys import path\n",
    "path.insert(0, '/home/azadoks/git/glosim2/')\n",
    "path.insert(0, '/home/azadoks/git/structureREST/lib/')\n",
    "from collections import OrderedDict\n",
    "from pymatgen import MPRester\n",
    "from libmatch.soap import get_Soaps\n",
    "import numpy as np\n",
    "import zoap"
   ]
  },
  {
   "cell_type": "code",
   "execution_count": 2,
   "metadata": {},
   "outputs": [],
   "source": [
    "material_ids = OrderedDict([\n",
    "    ('diamond', 'mp-66'),  # C\n",
    "    ('gaas', 'mp-2534'),  # GaAs\n",
    "    ('rocksalt', 'mp-22862'),  # NaCl\n",
    "    ('cubic_perovskite', 'mp-2998'),  # BaTiO3\n",
    "    ('tetragonal_perovskite', 'mp-5986'),  # BaTiO3\n",
    "    ('trigonal_perovskite', 'mp-5020'),  # BaTiO3\n",
    "    ('orthorhombic_perovskite', 'mp-5777'),  # BaTiO3\n",
    "    ('zincblende', 'mp-10695'),  # ZnS\n",
    "    ('wurtzite', 'mp-10281'),  # ZnS\n",
    "    ('fcc', 'mp-23'),  # Ni\n",
    "    ('big_fcc', 'mp-76'),  # Sr\n",
    "    ('bcc', 'mp-13'),  # Fe\n",
    "    ('big_bcc', 'mp-70'),  # Rb\n",
    "    ('hcp', 'mp-153'),  # Mg\n",
    "    ('trigonal', 'mp-782'),  # Te2Pd\n",
    "    ('tetragonal', 'mp-742'),  # Ti2Cu\n",
    "    ('monoclinic', 'mp-684'),  # BaS2\n",
    "    ('triclinic', 'mp-9122'),  # CaP3\n",
    "    ('orthorhombic', 'mp-872')  # BaSn\n",
    "])"
   ]
  },
  {
   "cell_type": "code",
   "execution_count": 3,
   "metadata": {},
   "outputs": [],
   "source": [
    "with MPRester('0WqdPfXxloze6T9N') as mpr:\n",
    "    structures = OrderedDict([(name, mpr.get_structure_by_material_id(id))\n",
    "                              for name, id in material_ids.iteritems()])\n",
    "\n",
    "qps = OrderedDict([(name, zoap.structure2quippy(structure,\n",
    "                                                anonymize=True, scale=True,\n",
    "                                                standardize=False, primitivize=False)\n",
    "                   )\n",
    "                   for name, structure in structures.iteritems()])"
   ]
  },
  {
   "cell_type": "code",
   "execution_count": null,
   "metadata": {},
   "outputs": [],
   "source": [
    "soaps = get_Soaps(qps.values(),\n",
    "                  nocenters=None, chem_channels=False,\n",
    "                  centerweight=1.0, gaussian_width=0.5,\n",
    "                  cutoff=2.0, cutoff_transition_width=0.5,\n",
    "                  nmax=16, lmax=14,\n",
    "                  spkitMax=None, nprocess=8,\n",
    "                  chemicalProjection=None, dispbar=False,\n",
    "                  is_fast_average=False)"
   ]
  },
  {
   "cell_type": "code",
   "execution_count": null,
   "metadata": {},
   "outputs": [],
   "source": []
  }
 ],
 "metadata": {
  "kernelspec": {
   "display_name": "Python 2",
   "language": "python",
   "name": "python2"
  },
  "language_info": {
   "codemirror_mode": {
    "name": "ipython",
    "version": 3
   },
   "file_extension": ".py",
   "mimetype": "text/x-python",
   "name": "python",
   "nbconvert_exporter": "python",
   "pygments_lexer": "ipython3",
   "version": "3.6.5"
  }
 },
 "nbformat": 4,
 "nbformat_minor": 2
}
