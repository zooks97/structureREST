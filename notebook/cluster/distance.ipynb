{
 "cells": [
  {
   "cell_type": "code",
   "execution_count": 1,
   "metadata": {},
   "outputs": [
    {
     "ename": "ImportError",
     "evalue": "No module named numpy",
     "output_type": "error",
     "traceback": [
      "\u001b[0;31m\u001b[0m",
      "\u001b[0;31mImportError\u001b[0mTraceback (most recent call last)",
      "\u001b[0;32m<ipython-input-1-0aa0b027fcb6>\u001b[0m in \u001b[0;36m<module>\u001b[0;34m()\u001b[0m\n\u001b[0;32m----> 1\u001b[0;31m \u001b[0;32mimport\u001b[0m \u001b[0mnumpy\u001b[0m \u001b[0;32mas\u001b[0m \u001b[0mnp\u001b[0m\u001b[0;34m\u001b[0m\u001b[0m\n\u001b[0m",
      "\u001b[0;31mImportError\u001b[0m: No module named numpy"
     ]
    }
   ],
   "source": [
    "import numpy as np"
   ]
  },
  {
   "cell_type": "code",
   "execution_count": 3,
   "metadata": {},
   "outputs": [],
   "source": [
    "soaps = np.loadtxt('../../data/cluster/pca_average_soap.dat')"
   ]
  },
  {
   "cell_type": "code",
   "execution_count": null,
   "metadata": {},
   "outputs": [],
   "source": [
    "def average_distance(average_soap1, average_soap2):\n",
    "    '''\n",
    "    Calculate distance between to averaged SOAP vectors\n",
    "    using the average distance kernel from De et al. (2016)\n",
    "    Args:\n",
    "        average_soap1 (numpy.ndarray): numpy array of average SOAP vector 1\n",
    "        average_soap2 (numpy.ndarray): numpy array of average SOAP vector 2\n",
    "    Returns:\n",
    "        float: normalized distance between average_soap1 and average_soap2\n",
    "    '''\n",
    "    k11 = np.linalg.norm(average_soap1)\n",
    "    k22 = np.linalg.norm(average_soap2)\n",
    "    k12 = np.linalg.norm(average_soap1 - average_soap2)\n",
    "    d12 = np.sqrt(2 - 2 * (k12 / np.sqrt(k11 * k22)))\n",
    "    return d12\n",
    "\n",
    "def average_distance_matrix(vectors):\n",
    "    '''\n",
    "    Generate distance matrix for a set average SOAP vectors\n",
    "        using the average distance kernel\n",
    "    '''\n",
    "    distance_matrix = np.zeros(len(vectors), len(vectors))\n",
    "    for i, v1 in enumerate(vectors):\n",
    "        for j, v2 in enumerate(vectors[i+1:]):\n",
    "            distance_matrix[i,j] = average_distance(v1, v2)\n",
    "    return distance_matrix"
   ]
  }
 ],
 "metadata": {
  "kernelspec": {
   "display_name": "Python 2",
   "language": "python",
   "name": "python2"
  },
  "language_info": {
   "codemirror_mode": {
    "name": "ipython",
    "version": 2
   },
   "file_extension": ".py",
   "mimetype": "text/x-python",
   "name": "python",
   "nbconvert_exporter": "python",
   "pygments_lexer": "ipython2",
   "version": "2.7.15"
  }
 },
 "nbformat": 4,
 "nbformat_minor": 2
}
