{
 "cells": [
  {
   "cell_type": "code",
   "execution_count": 1,
   "metadata": {},
   "outputs": [],
   "source": [
    "using NPZ\n",
    "using FileIO"
   ]
  },
  {
   "cell_type": "code",
   "execution_count": 2,
   "metadata": {},
   "outputs": [],
   "source": [
    "@inbounds @fastmath function avgdist(v1, v2)::Float64\n",
    "    k11 = norm(v1)\n",
    "    k22 = norm(v2)\n",
    "    k12 = setrounding(Float64,RoundDown) do\n",
    "        dot(v1, v2) / (k11 * k22)\n",
    "    end\n",
    "    d12 = sqrt(2 - 2 * k12)\n",
    "    return d12    \n",
    "end;"
   ]
  },
  {
   "cell_type": "code",
   "execution_count": 3,
   "metadata": {},
   "outputs": [],
   "source": [
    "@inbounds @fastmath function avgdistmat(vectors)::Array{Float64,2}\n",
    "    n_vectors = size(vectors, 1)\n",
    "    distance_matrix = zeros(n_vectors, n_vectors)\n",
    "    for i=1:n_vectors\n",
    "        for j=i+1:n_vectors\n",
    "            distance_matrix[i, j] = avgdist(vectors[i,:], vectors[j,:])\n",
    "        end\n",
    "    end\n",
    "    return distance_matrix\n",
    "end;"
   ]
  },
  {
   "cell_type": "code",
   "execution_count": 109,
   "metadata": {},
   "outputs": [],
   "source": [
    "@inbounds @fastmath function avgdistmat_write(vectors, fname)\n",
    "    n_vectors = size(vectors, 1)\n",
    "    open(fname, \"w\") do out\n",
    "        for i=1:n_vectors\n",
    "            distance_matrix_row = zeros(n_vectors)\n",
    "            for j=i+1:n_vectors\n",
    "                distance_matrix_row[j] = avgdist(vectors[i,:], vectors[j,:])\n",
    "            end\n",
    "            write(out, \"$distance_matrix_row\\n\")\n",
    "            flush(out)\n",
    "        end\n",
    "    end\n",
    "    return 0\n",
    "end;"
   ]
  },
  {
   "cell_type": "code",
   "execution_count": 110,
   "metadata": {},
   "outputs": [],
   "source": [
    "infile = \"../../data/cluster/pca_average_soap.npy\"\n",
    "vectors = npzread(infile);"
   ]
  },
  {
   "cell_type": "code",
   "execution_count": 111,
   "metadata": {},
   "outputs": [
    {
     "name": "stdout",
     "output_type": "stream",
     "text": [
      " 18.278360 seconds (175.01 M allocations: 13.300 GiB, 4.39% gc time)\n"
     ]
    },
    {
     "data": {
      "text/plain": [
       "0"
      ]
     },
     "execution_count": 111,
     "metadata": {},
     "output_type": "execute_result"
    }
   ],
   "source": [
    "@time distres = avgdistmat_write(vectors, \"distance.dat\")"
   ]
  },
  {
   "cell_type": "code",
   "execution_count": 73,
   "metadata": {},
   "outputs": [
    {
     "name": "stdout",
     "output_type": "stream",
     "text": [
      "  7.934791 seconds (173.87 M allocations: 12.793 GiB, 9.57% gc time)\n"
     ]
    },
    {
     "data": {
      "text/plain": [
       "7122×7122 Array{Float64,2}:\n",
       " 0.0  1.29355  0.0506911  1.68552  1.01334  …  1.91226   1.38201   1.86385 \n",
       " 0.0  0.0      1.27466    1.40994  1.81633     1.38184   1.08976   1.49959 \n",
       " 0.0  0.0      0.0        1.7045   1.039       1.91602   1.39229   1.87427 \n",
       " 0.0  0.0      0.0        0.0      1.58054     0.722928  0.858831  0.495587\n",
       " 0.0  0.0      0.0        0.0      0.0         1.79689   1.63      1.6826  \n",
       " 0.0  0.0      0.0        0.0      0.0      …  0.715785  0.851562  0.506677\n",
       " 0.0  0.0      0.0        0.0      0.0         1.82786   1.44303   1.68357 \n",
       " 0.0  0.0      0.0        0.0      0.0         1.8845    1.47387   1.7817  \n",
       " 0.0  0.0      0.0        0.0      0.0         1.90561   1.40953   1.87365 \n",
       " 0.0  0.0      0.0        0.0      0.0         1.55472   1.09753   1.65675 \n",
       " 0.0  0.0      0.0        0.0      0.0      …  0.691167  1.33879   0.945808\n",
       " 0.0  0.0      0.0        0.0      0.0         1.28062   0.833182  1.34076 \n",
       " 0.0  0.0      0.0        0.0      0.0         0.640137  1.4287    0.844091\n",
       " ⋮                                          ⋱            ⋮                 \n",
       " 0.0  0.0      0.0        0.0      0.0      …  0.373803  1.068     0.08395 \n",
       " 0.0  0.0      0.0        0.0      0.0         0.7557    1.16575   1.01589 \n",
       " 0.0  0.0      0.0        0.0      0.0         0.753865  0.981083  0.852493\n",
       " 0.0  0.0      0.0        0.0      0.0         1.89193   1.42437   1.79974 \n",
       " 0.0  0.0      0.0        0.0      0.0         1.40227   0.720315  1.24212 \n",
       " 0.0  0.0      0.0        0.0      0.0      …  0.52858   0.838849  0.418773\n",
       " 0.0  0.0      0.0        0.0      0.0         0.587502  1.28054   0.829651\n",
       " 0.0  0.0      0.0        0.0      0.0         0.791537  1.44093   1.05074 \n",
       " 0.0  0.0      0.0        0.0      0.0         0.607322  1.33066   0.84599 \n",
       " 0.0  0.0      0.0        0.0      0.0         0.0       1.10082   0.403513\n",
       " 0.0  0.0      0.0        0.0      0.0      …  0.0       0.0       1.02019 \n",
       " 0.0  0.0      0.0        0.0      0.0         0.0       0.0       0.0     "
      ]
     },
     "execution_count": 73,
     "metadata": {},
     "output_type": "execute_result"
    }
   ],
   "source": [
    "@time distmat = avgdistmat(vectors)"
   ]
  },
  {
   "cell_type": "code",
   "execution_count": null,
   "metadata": {},
   "outputs": [],
   "source": []
  }
 ],
 "metadata": {
  "kernelspec": {
   "display_name": "Julia 0.6.3",
   "language": "julia",
   "name": "julia-0.6"
  },
  "language_info": {
   "file_extension": ".jl",
   "mimetype": "application/julia",
   "name": "julia",
   "version": "0.6.3"
  }
 },
 "nbformat": 4,
 "nbformat_minor": 2
}
