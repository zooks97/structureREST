{
 "cells": [
  {
   "cell_type": "code",
   "execution_count": 1,
   "metadata": {},
   "outputs": [],
   "source": [
    "%aiida\n",
    "from pymatgen.io.cif import CifParser\n",
    "import pymongo\n",
    "from collections import OrderedDict as odict\n",
    "\n",
    "import logging\n",
    "logging.basicConfig(format='%(asctime)s - %(levelname)s - %(message)s',\n",
    "                    level=logging.DEBUG,\n",
    "                    filename='structureREST.log')"
   ]
  },
  {
   "cell_type": "code",
   "execution_count": 2,
   "metadata": {},
   "outputs": [],
   "source": [
    "DB = 'structureREST'\n",
    "COLLECTIONS = ['mpds', 'icsd', 'cod']\n",
    "\n",
    "client = pymongo.MongoClient('mongodb://localhost:27017/')\n",
    "db = client[DB]"
   ]
  },
  {
   "cell_type": "code",
   "execution_count": 3,
   "metadata": {},
   "outputs": [],
   "source": [
    "cod = Group.get_from_string('cod_cif_raw')\n",
    "mpds = Group.get_from_string('mpds_cif_raw')\n",
    "icsd = Group.get_from_string('icsd_cif_raw')"
   ]
  },
  {
   "cell_type": "code",
   "execution_count": 43,
   "metadata": {},
   "outputs": [
    {
     "name": "stdout",
     "output_type": "stream",
     "text": [
      "104\n",
      "CPU times: user 3.84 s, sys: 248 ms, total: 4.09 s\n",
      "Wall time: 4.32 s\n",
      "200\n",
      "CPU times: user 3.98 s, sys: 313 ms, total: 4.29 s\n",
      "Wall time: 4.48 s\n",
      "920\n",
      "CPU times: user 7.59 s, sys: 289 ms, total: 7.88 s\n",
      "Wall time: 8.19 s\n",
      "4280\n",
      "CPU times: user 21.3 s, sys: 410 ms, total: 21.7 s\n",
      "Wall time: 22.4 s\n",
      "9032\n",
      "CPU times: user 34.6 s, sys: 694 ms, total: 35.3 s\n",
      "Wall time: 36.5 s\n",
      "43048\n",
      "CPU times: user 2min 47s, sys: 2.98 s, total: 2min 50s\n",
      "Wall time: 2min 57s\n",
      "87632\n",
      "CPU times: user 5min 29s, sys: 6.58 s, total: 5min 35s\n",
      "Wall time: 5min 52s\n"
     ]
    }
   ],
   "source": [
    "N = 10000\n",
    "for group_name, group in {'cod': cod,\n",
    "                          'icsd': icsd,\n",
    "                          'mpds': mpds}.items():\n",
    "    logging.info('Creating collection %s', group_name)\n",
    "    collection = db[group_name]\n",
    "    documents = []\n",
    "    for cif in group.nodes:\n",
    "        path, structures, source, structure, document = [None] * 5\n",
    "        path = cif.get_file_abs_path()\n",
    "        try:\n",
    "            structures = CifParser(path).get_structures(primitive=False)\n",
    "        except Exception as exception:\n",
    "            logging.error('%s', str(exception))\n",
    "        else:\n",
    "            source = cif.get_attr('source')\n",
    "            for structure in structures:\n",
    "                document = {\n",
    "                    'source': source,\n",
    "                    'structure': structure.as_dict()\n",
    "                }\n",
    "                documents.append(document)\n",
    "                if len(documents) == N:\n",
    "                    print '%s' % str(sys.getsizeof(documents))\n",
    "                    logging.debug('Inserting %d documents into %s',\n",
    "                                  len(documents), group_name)\n",
    "                    try:\n",
    "                        result = collection.insert_many(documents)\n",
    "                    except Exception as exception:\n",
    "                        logging.critical('%s', str(exception))\n",
    "                        raise Exception(exception)\n",
    "                    else:\n",
    "                        logging.info('Successfuly inserted %d documents into %s',\n",
    "                                    len(result.inserted_ids), group_name)\n",
    "                        documents = []\n",
    "    \n",
    "    if documents:\n",
    "        logging.info('Inserting %d documents into %s', len(documents), group_name)\n",
    "        try:\n",
    "            result = collection.insert_many(documents)\n",
    "        except Exception as exception:\n",
    "            logging.critical('%s', str(exception))\n",
    "            raise Exception(exception)\n",
    "        else:\n",
    "            logging.info('Successfuly inserted %d documents into %s',\n",
    "                         len(result.inserted_ids), group_name)\n",
    "            documents = []"
   ]
  },
  {
   "cell_type": "code",
   "execution_count": null,
   "metadata": {},
   "outputs": [],
   "source": []
  }
 ],
 "metadata": {
  "kernelspec": {
   "display_name": "Python 2",
   "language": "python",
   "name": "python2"
  },
  "language_info": {
   "codemirror_mode": {
    "name": "ipython",
    "version": 2
   },
   "file_extension": ".py",
   "mimetype": "text/x-python",
   "name": "python",
   "nbconvert_exporter": "python",
   "pygments_lexer": "ipython2",
   "version": "2.7.15"
  }
 },
 "nbformat": 4,
 "nbformat_minor": 2
}
