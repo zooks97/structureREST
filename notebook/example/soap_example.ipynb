{
 "cells": [
  {
   "cell_type": "code",
   "execution_count": null,
   "metadata": {},
   "outputs": [],
   "source": [
    "# Import glosim2 (https://github.com/epfl-cosmo/glosim2)\n",
    "import sys\n",
    "sys.path.insert(0, '/home/azadoks/git/glosim2')\n",
    "# In my docker, use this:\n",
    "# sys.path.insert(0, '/home/app/glosim2')\n",
    "\n",
    "# Import Atoms objects\n",
    "from ase import Atoms as ase_Atoms\n",
    "from quippy import Atoms as quippy_Atoms\n",
    "\n",
    "# Data management\n",
    "import numpy as np\n",
    "import pandas as pd\n",
    "# If data is too large for memory, I suggest replacing (or augmenting)\n",
    "# numpy Arrays and pandas DataFrames with dask arrays and dataframes\n",
    "\n",
    "# SOAP\n",
    "from libmatch.soap import get_Soaps\n",
    "from libmatch.utils import ase2qp\n",
    "\n",
    "# PCA\n",
    "from sklearn.decomposition import PCA\n",
    "\n",
    "DISPLAY_DATA = True"
   ]
  },
  {
   "cell_type": "markdown",
   "metadata": {},
   "source": [
    "### Structure Input\n",
    "---"
   ]
  },
  {
   "cell_type": "code",
   "execution_count": null,
   "metadata": {},
   "outputs": [],
   "source": [
    "# Load structures here\n",
    "\n",
    "# For example:\n",
    "from pymatgen import MPRester, Structure\n",
    "from pymatgen.io.ase import AseAtomsAdaptor\n",
    "from collections import OrderedDict\n",
    "material_ids = OrderedDict([\n",
    "    ('diamond', 'mp-66'),  # C\n",
    "    ('rocksalt', 'mp-22862'),  # NaCl\n",
    "    ('cubic_perovskite', 'mp-2998'),  # BaTiO3\n",
    "    ('wurtzite', 'mp-10281'),  # ZnS\n",
    "    ('fcc', 'mp-23'),  # Ni\n",
    "    ('bcc', 'mp-13'),  # Fe\n",
    "    ('hcp', 'mp-153'),  # Mg\n",
    "    ('trigonal', 'mp-782'),  # Te2Pd\n",
    "    ('tetragonal', 'mp-742'),  # Ti2Cu\n",
    "    ('monoclinic', 'mp-684'),  # BaS2\n",
    "    ('triclinic', 'mp-9122'),  # CaP3\n",
    "    ('orthorhombic', 'mp-872')  # BaSn\n",
    "])\n",
    "# Convert material_ids dict into a DataFrame with a column for name and material_id\n",
    "material_df = pd.DataFrame({'name': material_ids.keys(), 'material_id': material_ids.values()})\n",
    "print 'Before applying mpr.get_structure_by_material_id'\n",
    "if DISPLAY_DATA: display(material_df)\n",
    "\n",
    "# .apply will call its argument (in this case, mpr.get_structure_by_material_id) \n",
    "#   on each of the entries of the object on which it's called (in this case, the material_id Series)\n",
    "#   (DataFrame columns are Series)\n",
    "# Here, it retrieves a pymatgen Structure from Materials Project for each material_id\n",
    "with MPRester('0WqdPfXxloze6T9N') as mpr:\n",
    "    material_df['structure'] = material_df['material_id'].apply(mpr.get_structure_by_material_id)\n",
    "\n",
    "print ''.join(['=']*80)\n",
    "print 'After applying the query function and making a new \"structure\" column'\n",
    "if DISPLAY_DATA: display(material_df)"
   ]
  },
  {
   "cell_type": "markdown",
   "metadata": {},
   "source": [
    "### Structure Conversion\n",
    "---"
   ]
  },
  {
   "cell_type": "code",
   "execution_count": null,
   "metadata": {},
   "outputs": [],
   "source": [
    "# Convert structures to ase Atoms\n",
    "material_df['ase'] = material_df['structure'].apply(AseAtomsAdaptor.get_atoms)\n",
    "if DISPLAY_DATA: display(material_df)"
   ]
  },
  {
   "cell_type": "code",
   "execution_count": null,
   "metadata": {},
   "outputs": [],
   "source": [
    "# Convert ase Atoms to quippy Atoms\n",
    "material_df['quippy'] = material_df['ase'].apply(ase2qp)\n",
    "if DISPLAY_DATA: display(material_df)"
   ]
  },
  {
   "cell_type": "markdown",
   "metadata": {},
   "source": [
    "### Soap Calculation\n",
    "---\n",
    "* `atoms` (`[quippy.Atoms]`): List of quippy Atoms structures\n",
    "* `nocenters` (`[int]` or `None`): List of atomic numbers to ignore as centers\n",
    "* `chem_channels` (`bool`): ??\n",
    "* `centerweight` (`float`): Weight of gaussian on central atom\n",
    "* `gaussian_width` (`float`): Width (sigma) of gaussian \n",
    "* `cutoff` (`float`): Distance (in units of input) to cut off overlap integration\n",
    "* `cutoff_transition_width` (`float`): Width of sigmoid used to smooth integration cutoff\n",
    "* `nmax` (`nmax`): Number of radial basis functions\n",
    "* `lmax` (`int`): Number of spherical harmonics\n",
    "* `spkitMax` (`dict`): \"species kit maximum\", `{Z: Nmax}` over all structures in `atoms`\n",
    "\n",
    "        spkit = {}\n",
    "        for atom in all:\n",
    "            atomspecies = {}\n",
    "            for z in atom.z:      \n",
    "                if z in atomspecies: atomspecies[z]+=1\n",
    "                else: atomspecies[z] = 1\n",
    "\n",
    "            for (z, nz) in atomspecies.iteritems():\n",
    "                if z in spkit:\n",
    "                    if nz>spkit[z]: spkit[z] = nz\n",
    "                else:\n",
    "        spkit[z] = nz\n",
    "\n",
    "* `nprocess`: Number of subprocesses spawned (best to use number of cores unless data is very large\n",
    "* `chemicalProjection` (`None` or `???`)\n",
    "* `dispbar` (`bool`)\n",
    "* `is_fast_average` (`bool`): Return fast average if true, full soap (per site) if false. If true, will return `OrderedDict([('AVG': SOAP)])`"
   ]
  },
  {
   "cell_type": "code",
   "execution_count": null,
   "metadata": {
    "scrolled": true
   },
   "outputs": [],
   "source": [
    "# default SOAP parameters\n",
    "# get_Soaps(atoms, \n",
    "#           nocenters=None, chem_channels=False, \n",
    "#           centerweight=1.0, gaussian_width=0.5, \n",
    "#           cutoff=3.5, cutoff_transition_width=0.5, \n",
    "#           nmax=8, lmax=6, \n",
    "#           spkitMax=None, \n",
    "#           nprocess=1, \n",
    "#           chemicalProjection=None, \n",
    "#           dispbar=False, \n",
    "#           is_fast_average=False)\n",
    "\n",
    "# Calculate SOAPs\n",
    "material_df['soaps'] = get_Soaps(material_df['quippy'])\n",
    "material_df['fast_average_soap'] = get_Soaps(material_df['quippy'], is_fast_average=True)\n",
    "if DISPLAY_DATA: display(material_df)\n",
    "\n",
    "# Use example_soap to investigate the structure of a SOAP\n",
    "example_soap = material_df['soaps'][0]"
   ]
  },
  {
   "cell_type": "code",
   "execution_count": null,
   "metadata": {},
   "outputs": [],
   "source": [
    "# Calculate average SOAPs\n",
    "def get_average_soap(soaps):\n",
    "    return np.mean(soaps.values(), axis=0)\n",
    "material_df['average_soap'] = material_df['soaps'].apply(get_average_soap)\n",
    "if DISPLAY_DATA: display(material_df)"
   ]
  },
  {
   "cell_type": "markdown",
   "metadata": {},
   "source": [
    "### PCA\n",
    "---"
   ]
  },
  {
   "cell_type": "code",
   "execution_count": null,
   "metadata": {},
   "outputs": [],
   "source": [
    "# Create the PCA data\n",
    "\n",
    "# Create a numpy array with the same number of rows as structures\n",
    "#   and the same number of columns as SOAP dimensions\n",
    "len_entries = len(material_df['average_soap'])\n",
    "len_soap = len(material_df['average_soap'][0])\n",
    "# Here, concatenate makes an len_entries * len_soap x 1 vector which\n",
    "#  is reshaped into a len_entries x len_soap array\n",
    "pca_array = np.concatenate(material_df['average_soap']).reshape(len_entries, len_soap)"
   ]
  },
  {
   "cell_type": "code",
   "execution_count": null,
   "metadata": {},
   "outputs": [],
   "source": [
    "# Do a test PCA on the average_soaps\n",
    "\n",
    "# This will do a PCA resulting in vectors of the same length (dimension) as the originals\n",
    "# Do this to find the percent of variance explained by various numbers of dimensions\n",
    "pca = PCA()\n",
    "pca.fit(pca_array)\n",
    "print(list(enumerate(pca.explained_variance_ratio_.cumsum())))"
   ]
  },
  {
   "cell_type": "code",
   "execution_count": null,
   "metadata": {},
   "outputs": [],
   "source": [
    "# Do the final PCA\n",
    "\n",
    "# 10 components gives practically 100% of variance explaned for the example data\n",
    "pca = PCA(n_components=10) \n",
    "pca_soap = pca.fit_transform(pca_array)\n",
    "if DISPLAY_DATA: material_df['pca_soap'] = pca_soap.tolist()"
   ]
  },
  {
   "cell_type": "code",
   "execution_count": null,
   "metadata": {},
   "outputs": [],
   "source": [
    "# Save only the necessary data\n",
    "material_df[['material_id', 'pca_soap']].to_json()"
   ]
  }
 ],
 "metadata": {
  "kernelspec": {
   "display_name": "Python 2",
   "language": "python",
   "name": "python2"
  },
  "language_info": {
   "codemirror_mode": {
    "name": "ipython",
    "version": 2
   },
   "file_extension": ".py",
   "mimetype": "text/x-python",
   "name": "python",
   "nbconvert_exporter": "python",
   "pygments_lexer": "ipython2",
   "version": "2.7.15"
  }
 },
 "nbformat": 4,
 "nbformat_minor": 2
}
