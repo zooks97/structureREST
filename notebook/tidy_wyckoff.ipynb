{
 "cells": [
  {
   "cell_type": "markdown",
   "metadata": {},
   "source": [
    "## TODO\n",
    "1. Ask Martin about how Wyckoffs should be represented (per site? reduced?)\n",
    "2. aiida CIF database\n",
    "    1. Convert to `pymatgen.core.Structure` s\n",
    "    2. Create mongoDB collection for `pymatgen.core.Structure` s\n",
    "3. Fingerprint mongoDB\n",
    "    1. Make a collection for each flavor of fingerprint\n",
    "    2. Add all related metadata, tolerances, etc. (spglib / STRUCTURE TIDY / pymatgen)\n",
    "4. Create RESTful interface for structures, fingerprinting, etc.\n",
    "    1. GET fingerprints by sending structure data (CIF, `pymatgen.core.Structure`, etc.)\n",
    "    2. GET structures by query\n",
    "    3. GET structure comparisons\n",
    "        1. pymatgen comparison\n",
    "        2. XRD subtraction using pymatgen XRD\n",
    "        3. ..."
   ]
  },
  {
   "cell_type": "code",
   "execution_count": 1,
   "metadata": {},
   "outputs": [],
   "source": [
    "import pymatgen\n",
    "import pymatgen.symmetry.structure\n",
    "import re\n",
    "class StidyParser(object):\n",
    "    def __init__(self: object, stidy_output: str) -> None:\n",
    "        self.output = stidy_output\n",
    "        return\n",
    "    \n",
    "    @property\n",
    "    def formula(self: object) -> str:\n",
    "        '''str: Reduced chemical formula'''\n",
    "        regexp = re.compile('Structure Tidy Results for\\s*(\\w*)')\n",
    "        match = regexp.search(self.output)\n",
    "        return match.group(1)\n",
    "\n",
    "    @property\n",
    "    def space_group(self: object) -> str:\n",
    "        '''str: Space group descriptor e.g. \"P 1\"'''\n",
    "        regexp = re.compile('Structure Tidy Results for\\s*\\w*\\s*(.*)')\n",
    "        match = regexp.search(self.output)\n",
    "        return str(match.group(1).strip())\n",
    "\n",
    "    @property\n",
    "    def axes_change(self: object) -> (str):\n",
    "        '''tuple: New axes in terms of originals e.g. ('a', 'b+c', 'b')'''\n",
    "        regexp = re.compile('Axes changed to : (.*)')\n",
    "        match = regexp.search(self.output)\n",
    "        return tuple(match.group(1).strip().split(','))\n",
    "\n",
    "    @property\n",
    "    def pearson(self: object) -> str:\n",
    "        '''str: Pearson code e.g. \"aP\"'''\n",
    "        regexp = re.compile('Pearson code : (\\w*)')\n",
    "        match = regexp.search(self.output)\n",
    "        return match.group(1)\n",
    "\n",
    "    @property\n",
    "    def cell(self: object) -> ((float)):\n",
    "        '''tuple: abc and angles of the standardized cell'''\n",
    "        regexp = re.compile('^Cell :.*$', re.MULTILINE)\n",
    "        match = regexp.search(self.output).group(0)\n",
    "        abc = tuple(map(float, match.split(':')[-1].strip().split()[:3]))\n",
    "        angles = tuple(map(float, match.split(':')[-1].strip().split()[3:]))\n",
    "        return (abc, angles)\n",
    "\n",
    "    @property\n",
    "    def itc_number(self: object) -> int:\n",
    "        '''int: ???'''\n",
    "        regexp = re.compile('\\s*Number in IT :\\s*(\\d+)')\n",
    "        match = regexp.search(self.output)\n",
    "        return int(match.group(1))\n",
    "    \n",
    "    @property\n",
    "    def setting(self: object) -> [(str)]:\n",
    "        '''\n",
    "        list: ???\n",
    "              One entry per output structure\n",
    "        '''\n",
    "        regexp = re.compile('Setting\\s*([-\\w]*),([-\\w]*),([-\\w]*)')\n",
    "        return regexp.findall(self.output)\n",
    "    \n",
    "    @property\n",
    "    def origin(self: object) -> [(float)]:\n",
    "        '''\n",
    "        list: New origin in the old cell\n",
    "        One entry per output structure\n",
    "        '''\n",
    "        regexp = re.compile('Origin\\s*\\(.*\\)')\n",
    "        matches = regexp.findall(self.output)\n",
    "        for i, match in enumerate(matches):\n",
    "            matches[i] = tuple(map(float, match.strip('() ').split()[2:]))\n",
    "        return matches\n",
    "    \n",
    "    @property\n",
    "    def gamma(self: object) -> [float]:\n",
    "        '''\n",
    "        list: Gamma values for standardization minimization\n",
    "              One entry per output structure\n",
    "        '''\n",
    "        regexp = re.compile('Gamma\\s*=\\s*.*')\n",
    "        matches = regexp.findall(self.output)\n",
    "        return [float(match.split()[-1]) for match in matches]\n",
    "   \n",
    "    @property\n",
    "    def sites(self: object) -> list:\n",
    "        '''\n",
    "        list: Site data including:\n",
    "            str: numbered species e.g. 'Mo1'\n",
    "            str: wyckoff site e.g. '2(d)'\n",
    "            float: x\n",
    "            float: y\n",
    "            float: z\n",
    "            str: species e.g. 'Mo'\n",
    "            int: number\n",
    "        One set of sites per output structure\n",
    "        '''\n",
    "        regexp = re.compile('\\s+([a-zA-Z]{1,2})(\\d)+\\s+([\\w\\(\\)]{4,5})\\s+([\\d\\/\\.]+)\\s+([\\d\\/\\.]+)\\s+([\\d\\/\\.]+)\\s+(\\w+)\\s+(\\d+)')\n",
    "        match_blocks = []\n",
    "        for block in self.output.split('Wyckoff'):\n",
    "            matches = []\n",
    "            matches = regexp.findall(block)\n",
    "            for m, match in enumerate(matches):\n",
    "                match = list(match)\n",
    "                for i in range(3,6):\n",
    "                    if '/' in match[i]:\n",
    "                        j = [float(k) for k in match[i].split('/')]\n",
    "                        num = j[0] / j[1]\n",
    "                        match[i] = num\n",
    "                    else:\n",
    "                        match[i] = float(match[i])\n",
    "                match[0] = ''.join(match[0:2])\n",
    "                del match[1]\n",
    "                match[6] = int(match[6])\n",
    "                matches[m] = tuple(match)\n",
    "            if matches:\n",
    "                match_blocks.append(matches)\n",
    "        return match_blocks\n",
    "            \n",
    "    @property\n",
    "    def wyckoff(self: object) -> [(str)]:\n",
    "        '''\n",
    "        list: Wyckoff occupations\n",
    "        One set of sites per output structure\n",
    "        '''\n",
    "        # regexp = re.compile('Wyckoff sequence :\\s*(.*)')\n",
    "        # matches = regexp.findall(self.output)\n",
    "        # return [tuple([m.strip() for m in match.split()]) for match in matches]\n",
    "        wyckoff = []\n",
    "        for sites in self.sites:\n",
    "            sequence = []\n",
    "            for site in sites:\n",
    "                sequence.append(site[1].split('(')[-1].split(')')[0])\n",
    "            wyckoff.append(sequence)\n",
    "        return wyckoff\n",
    "    \n",
    "    @property\n",
    "    def summary_and_remarks(self: object) -> str:\n",
    "        '''str: Unprocessed summary and remarks cut from output file'''\n",
    "        regexp = re.compile('^Summary and Remarks.*-\\n', re.MULTILINE|re.DOTALL)\n",
    "        return regexp.search(self.output).group(0)\n",
    "    \n",
    "    @property\n",
    "    def structure(self: object) -> [pymatgen.core.Structure]:\n",
    "        '''\n",
    "        pymatgen.core.Structure: Structure object\n",
    "        One entry per output structure\n",
    "        '''\n",
    "        structures = []\n",
    "        cell = self.cell\n",
    "        for sites in self.sites:\n",
    "            species = [site[-2] for site in sites]\n",
    "            fractional_coords = [tuple(site[2:5]) for site in sites]\n",
    "            lattice = pymatgen.Lattice.from_lengths_and_angles(abc=cell[0], ang=cell[1])\n",
    "            structure = pymatgen.Structure(lattice=lattice,\n",
    "                                           species=species,\n",
    "                                           coords=fractional_coords)\n",
    "            # symmetry_structure = pymatgen.symmetry..structure.SymmetrizedStructure(structure, self.itc, )\n",
    "            structures.append(structure)\n",
    "        return structures\n",
    "    \n",
    "    @property\n",
    "    def wyckoff_fingerprint(self: object) -> str:\n",
    "        '''str: Wickoff fingerprint of the form [IT SPACEGROUP]_[_-SEPARATED WYCKOFF OCCUPANCIES]'''\n",
    "        fingerprint = []\n",
    "        for sequence in self.wyckoff:\n",
    "            fingerprint.append('_'.join([str(self.itc_number)] + sequence))\n",
    "        return fingerprint"
   ]
  },
  {
   "cell_type": "code",
   "execution_count": 2,
   "metadata": {},
   "outputs": [],
   "source": [
    "import pymatgen\n",
    "import distutils\n",
    "import pymatgen.io.cif\n",
    "import tempfile\n",
    "import subprocess\n",
    "import os\n",
    "import pathlib\n",
    "def stidy(structure: pymatgen.core.Structure) -> StidyParser:\n",
    "    '''\n",
    "    Run STRUCTURE TIDY as implemented in the PLATON software package.\n",
    "    PLATON must either be in the PATH or in ../bin.\n",
    "    \n",
    "    References:\n",
    "        A. L. Spek (2009). Acta Cryst., D65, 148-155. \n",
    "        E. Parthé and L. M. Gelato (1984). Acta Cryst., A40, 169-183.\n",
    "        L. M. Gelato and E. Parthé (1987). J. Appl. Cryst. 20, 139-143.\n",
    "        S-Z. Hu and E. Parthé (2004). Chinese J. Struct. Chem. 23, 1150-1160.\n",
    "    \n",
    "    Args:\n",
    "        structure (pymatgen.core.Structure): Pymatgen Structure object for the (probably) untidy structure\n",
    "    Returns:\n",
    "        pymatgen.core.Structure: STRUCTURE TIDY standardized structure in Pymatgen object form\n",
    "        \n",
    "    '''\n",
    "    PLATON = distutils.spawn.find_executable('platon')\n",
    "    if not PLATON: \n",
    "        PLATON = '../bin/platon'\n",
    "\n",
    "    structure_cif = str(pymatgen.io.cif.CifWriter(structure))\n",
    "    with tempfile.NamedTemporaryFile(suffix='.cif') as temp_file:\n",
    "        # write temporary cif file\n",
    "        temp_file.write(bytes(structure_cif, encoding='utf-8'))\n",
    "        temp_file.flush()\n",
    "        temp_file_path = pathlib.Path(temp_file.name)\n",
    "        # run ADDSYM_SHX to make PLATON recognize symmetries\n",
    "        addsym_shx_process = subprocess.Popen(['platon', '-o', temp_file.name],\n",
    "                                              stdout=subprocess.PIPE,\n",
    "                                              stderr=subprocess.STDOUT,\n",
    "                                              stdin=subprocess.PIPE)\n",
    "        addsym_shx_data = addsym_shx_process.communicate(input=b'ADDSYM_SHX')\n",
    "        # call STIDY on the ADDSYM_SHX output\n",
    "        temp_file_spf = str(temp_file_path.parent / (str(temp_file_path.stem) + '_pl.spf'))\n",
    "        stidy_process = subprocess.Popen(['platon', '-o', temp_file_spf],\n",
    "                                          stdout=subprocess.PIPE,\n",
    "                                          stderr=subprocess.STDOUT,\n",
    "                                          stdin=subprocess.PIPE)\n",
    "        stidy_data = stidy_process.communicate(input=b'STIDY')\n",
    "    stidy_output = stidy_data[0].decode('utf-8')\n",
    "    \n",
    "    # clean up files\n",
    "    if pathlib.Path('check.def').exists():\n",
    "        os.remove('check.def')\n",
    "\n",
    "    return StidyParser(stidy_output)"
   ]
  },
  {
   "cell_type": "code",
   "execution_count": 3,
   "metadata": {},
   "outputs": [],
   "source": [
    "import pymatgen\n",
    "import pymatgen.symmetry.analyzer\n",
    "def wyckoff_fingerprint(structure: pymatgen.core.Structure) -> str:\n",
    "    SYMPREC = 1e-5\n",
    "    ANGLE_TOLERANCE = -1\n",
    "    spacegroup_analyzer = pymatgen.symmetry.analyzer.SpacegroupAnalyzer(structure,\n",
    "                                                                          symprec=SYMPREC,\n",
    "                                                                          angle_tolerance=ANGLE_TOLERANCE)\n",
    "    return '_'.join([str(spacegroup_analyzer.get_space_group_number())] + \n",
    "                    spacegroup_analyzer.get_symmetry_dataset()['wyckoffs'])"
   ]
  },
  {
   "cell_type": "code",
   "execution_count": 4,
   "metadata": {
    "scrolled": false
   },
   "outputs": [
    {
     "data": {
      "text/plain": [
       "Structure Summary\n",
       "Lattice\n",
       "    abc : 7.3409526 7.34095259 7.3409526\n",
       " angles : 25.103119069999998 25.103119139999997 25.103119100000026\n",
       " volume : 62.6493334321811\n",
       "      A : 3.11438974864272 0.0 6.64756809434818\n",
       "      B : 1.4800076654772434 2.7402555974884333 6.647568089097668\n",
       "      C : 0.0 0.0 7.3409526\n",
       "PeriodicSite: Mo (4.5934, 2.7396, 20.6315) [0.9998, 0.9998, 0.9998]\n",
       "PeriodicSite: S (1.8678, 1.1140, 8.3893) [0.4065, 0.4065, 0.4065]\n",
       "PeriodicSite: S (1.1931, 0.7116, 5.3589) [0.2597, 0.2597, 0.2597]"
      ]
     },
     "metadata": {},
     "output_type": "display_data"
    },
    {
     "data": {
      "text/plain": [
       "Structure Summary\n",
       "Lattice\n",
       "    abc : 3.1906 3.1906 21.3183\n",
       " angles : 90.0 90.0 119.99999999999999\n",
       " volume : 187.94376510952148\n",
       "      A : 3.1906 0.0 1.9536790386797724e-16\n",
       "      B : -1.5952999999999993 2.7631406533146303 1.9536790386797724e-16\n",
       "      C : 0.0 0.0 21.3183\n",
       "PeriodicSite: S (0.0000, 0.0000, 0.0000) [0.0000, 0.0000, 0.0000]\n",
       "PeriodicSite: S (0.0000, 0.0000, 3.1306) [0.0000, 0.0000, 0.1469]\n",
       "PeriodicSite: Mo (0.0000, 0.0000, 8.6714) [0.0000, 0.0000, 0.4068]"
      ]
     },
     "metadata": {},
     "output_type": "display_data"
    },
    {
     "data": {
      "text/plain": [
       "'160_a_a_a'"
      ]
     },
     "metadata": {},
     "output_type": "display_data"
    },
    {
     "name": "stdout",
     "output_type": "stream",
     "text": [
      "********************************************************************************\n"
     ]
    },
    {
     "data": {
      "text/plain": [
       "Structure Summary\n",
       "Lattice\n",
       "    abc : 3.19064344 3.1906434400000006 21.31819994\n",
       " angles : 90.0 90.0 119.99999999999999\n",
       " volume : 187.9480006902036\n",
       "      A : 3.19064344 0.0 1.95370563800825e-16\n",
       "      B : -1.5953217199999994 2.763178273458171 1.95370563800825e-16\n",
       "      C : 0.0 0.0 21.31819994\n",
       "PeriodicSite: Mo (1.5953, 0.9211, 7.1013) [0.6667, 0.3333, 0.3331]\n",
       "PeriodicSite: Mo (-0.0000, 1.8421, 14.2074) [0.3333, 0.6667, 0.6664]\n",
       "PeriodicSite: Mo (0.0000, 0.0000, 21.3134) [0.0000, 0.0000, 0.9998]\n",
       "PeriodicSite: S (-0.0000, 1.8421, 1.5605) [0.3333, 0.6667, 0.0732]\n",
       "PeriodicSite: S (0.0000, 0.0000, 5.5361) [0.0000, 0.0000, 0.2597]\n",
       "PeriodicSite: S (0.0000, 0.0000, 8.6666) [0.0000, 0.0000, 0.4065]\n",
       "PeriodicSite: S (1.5953, 0.9211, 12.6421) [0.6667, 0.3333, 0.5930]\n",
       "PeriodicSite: S (1.5953, 0.9211, 15.7727) [0.6667, 0.3333, 0.7399]\n",
       "PeriodicSite: S (-0.0000, 1.8421, 19.7482) [0.3333, 0.6667, 0.9264]"
      ]
     },
     "metadata": {},
     "output_type": "display_data"
    },
    {
     "data": {
      "text/plain": [
       "Structure Summary\n",
       "Lattice\n",
       "    abc : 3.1906 3.1906 21.3182\n",
       " angles : 90.0 90.0 119.99999999999999\n",
       " volume : 187.94288350186463\n",
       "      A : 3.1906 0.0 1.9536790386797724e-16\n",
       "      B : -1.5952999999999993 2.7631406533146303 1.9536790386797724e-16\n",
       "      C : 0.0 0.0 21.3182\n",
       "PeriodicSite: S (0.0000, 0.0000, 0.0000) [0.0000, 0.0000, 0.0000]\n",
       "PeriodicSite: S (0.0000, 0.0000, 3.1306) [0.0000, 0.0000, 0.1469]\n",
       "PeriodicSite: Mo (0.0000, 0.0000, 8.6712) [0.0000, 0.0000, 0.4068]"
      ]
     },
     "metadata": {},
     "output_type": "display_data"
    },
    {
     "data": {
      "text/plain": [
       "'160_a_a_a'"
      ]
     },
     "metadata": {},
     "output_type": "display_data"
    },
    {
     "name": "stdout",
     "output_type": "stream",
     "text": [
      "********************************************************************************\n"
     ]
    },
    {
     "data": {
      "text/plain": [
       "Structure Summary\n",
       "Lattice\n",
       "    abc : 7.3409526 7.3409526 7.3409526\n",
       " angles : 25.10311911999998 25.10311911999998 25.103119119999967\n",
       " volume : 62.64933359662721\n",
       "      A : 3.1143897463222805 0.0 6.647568095435307\n",
       "      B : 1.4800076695142357 2.7402556067229202 6.647568095435307\n",
       "      C : 0.0 0.0 7.3409526\n",
       "PeriodicSite: Mo (4.5934, 2.7396, 20.6315) [0.9998, 0.9998, 0.9998]\n",
       "PeriodicSite: S (1.8678, 1.1140, 8.3893) [0.4065, 0.4065, 0.4065]\n",
       "PeriodicSite: S (1.1931, 0.7116, 5.3589) [0.2597, 0.2597, 0.2597]"
      ]
     },
     "metadata": {},
     "output_type": "display_data"
    },
    {
     "data": {
      "text/plain": [
       "Structure Summary\n",
       "Lattice\n",
       "    abc : 3.1906 3.1906 21.3183\n",
       " angles : 90.0 90.0 119.99999999999999\n",
       " volume : 187.94376510952148\n",
       "      A : 3.1906 0.0 1.9536790386797724e-16\n",
       "      B : -1.5952999999999993 2.7631406533146303 1.9536790386797724e-16\n",
       "      C : 0.0 0.0 21.3183\n",
       "PeriodicSite: S (0.0000, 0.0000, 0.0000) [0.0000, 0.0000, 0.0000]\n",
       "PeriodicSite: S (0.0000, 0.0000, 3.1306) [0.0000, 0.0000, 0.1469]\n",
       "PeriodicSite: Mo (0.0000, 0.0000, 8.6714) [0.0000, 0.0000, 0.4068]"
      ]
     },
     "metadata": {},
     "output_type": "display_data"
    },
    {
     "data": {
      "text/plain": [
       "'160_a_a_a'"
      ]
     },
     "metadata": {},
     "output_type": "display_data"
    },
    {
     "name": "stdout",
     "output_type": "stream",
     "text": [
      "********************************************************************************\n"
     ]
    },
    {
     "data": {
      "text/plain": [
       "Structure Summary\n",
       "Lattice\n",
       "    abc : 3.19064343 3.19064343 21.31819994\n",
       " angles : 90.0 90.0 119.99999999999999\n",
       " volume : 187.94799951208387\n",
       "      A : 3.19064343 0.0 1.953705631885016e-16\n",
       "      B : -1.5953217149999994 2.763178264797917 1.953705631885016e-16\n",
       "      C : 0.0 0.0 21.31819994\n",
       "PeriodicSite: Mo (0.0000, 0.0000, 0.0048) [0.0000, 0.0000, 0.0002]\n",
       "PeriodicSite: Mo (1.5953, 0.9211, 7.1108) [0.6667, 0.3333, 0.3336]\n",
       "PeriodicSite: Mo (0.0000, 1.8421, 14.2169) [0.3333, 0.6667, 0.6669]\n",
       "PeriodicSite: S (0.0000, 0.0000, 12.6516) [0.0000, 0.0000, 0.5935]\n",
       "PeriodicSite: S (1.5953, 0.9211, 19.7577) [0.6667, 0.3333, 0.9268]\n",
       "PeriodicSite: S (0.0000, 1.8421, 5.5455) [0.3333, 0.6667, 0.2601]\n",
       "PeriodicSite: S (0.0000, 0.0000, 15.7821) [0.0000, 0.0000, 0.7403]\n",
       "PeriodicSite: S (1.5953, 0.9211, 1.5700) [0.6667, 0.3333, 0.0736]\n",
       "PeriodicSite: S (0.0000, 1.8421, 8.6761) [0.3333, 0.6667, 0.4070]"
      ]
     },
     "metadata": {},
     "output_type": "display_data"
    },
    {
     "data": {
      "text/plain": [
       "Structure Summary\n",
       "Lattice\n",
       "    abc : 3.1906 3.1906 21.3182\n",
       " angles : 90.0 90.0 119.99999999999999\n",
       " volume : 187.94288350186463\n",
       "      A : 3.1906 0.0 1.9536790386797724e-16\n",
       "      B : -1.5952999999999993 2.7631406533146303 1.9536790386797724e-16\n",
       "      C : 0.0 0.0 21.3182\n",
       "PeriodicSite: S (0.0000, 0.0000, 0.0000) [0.0000, 0.0000, 0.0000]\n",
       "PeriodicSite: S (0.0000, 0.0000, 3.1306) [0.0000, 0.0000, 0.1469]\n",
       "PeriodicSite: Mo (0.0000, 0.0000, 8.6712) [0.0000, 0.0000, 0.4068]"
      ]
     },
     "metadata": {},
     "output_type": "display_data"
    },
    {
     "data": {
      "text/plain": [
       "'160_a_a_a'"
      ]
     },
     "metadata": {},
     "output_type": "display_data"
    },
    {
     "name": "stdout",
     "output_type": "stream",
     "text": [
      "********************************************************************************\n"
     ]
    }
   ],
   "source": [
    "SYMPREC = 1e-3\n",
    "ANGLE_TOLERANCE = 5\n",
    "\n",
    "cifs = ['../data/MoS2_mp-1434_computed.cif',\n",
    "        '../data/MoS2_mp-1434_conventional_standard.cif',\n",
    "        '../data/MoS2_mp-1434_primitive.cif',\n",
    "        '../data/MoS2_mp-1434_symmetrized.cif']\n",
    "\n",
    "structures = []\n",
    "for cif in cifs:\n",
    "    structures += pymatgen.io.cif.CifParser(cif).get_structures(primitive=False)\n",
    "\n",
    "for structure in structures:\n",
    "    sp = stidy(structure) # StidyParser\n",
    "    ts = sp.structure[0] # tidy Structure\n",
    "    wf = sp.wyckoff_fingerprint[0] # Wyckoff fingerprint\n",
    "    display(structure, ts, wf)\n",
    "    print(''.join(['*']*80))   "
   ]
  },
  {
   "cell_type": "code",
   "execution_count": null,
   "metadata": {},
   "outputs": [],
   "source": []
  }
 ],
 "metadata": {
  "kernelspec": {
   "display_name": "Python 3",
   "language": "python",
   "name": "python3"
  },
  "language_info": {
   "codemirror_mode": {
    "name": "ipython",
    "version": 3
   },
   "file_extension": ".py",
   "mimetype": "text/x-python",
   "name": "python",
   "nbconvert_exporter": "python",
   "pygments_lexer": "ipython3",
   "version": "3.6.5"
  }
 },
 "nbformat": 4,
 "nbformat_minor": 2
}
