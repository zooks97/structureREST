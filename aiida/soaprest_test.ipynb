{
 "cells": [
  {
   "cell_type": "code",
   "execution_count": 1,
   "metadata": {},
   "outputs": [
    {
     "name": "stderr",
     "output_type": "stream",
     "text": [
      "/usr/local/miniconda3/envs/aiida/lib/python2.7/site-packages/pymatgen/__init__.py:87: UserWarning: \n",
      "Pymatgen will drop Py2k support from v2019.1.1. Pls consult the documentation\n",
      "at https://www.pymatgen.org for more details.\n",
      "  at https://www.pymatgen.org for more details.\"\"\")\n"
     ]
    }
   ],
   "source": [
    "import ase\n",
    "import requests\n",
    "import numpy as np\n",
    "import json\n",
    "import atoms_utils\n",
    "from pymatgen import MPRester, Structure\n",
    "from pymatgen.io.ase import AseAtomsAdaptor\n",
    "from cStringIO import StringIO\n",
    "from os import remove"
   ]
  },
  {
   "cell_type": "code",
   "execution_count": 2,
   "metadata": {},
   "outputs": [],
   "source": [
    "def anonymize(structure):\n",
    "    n_atoms = len(structure.positions)\n",
    "    structure.set_atomic_numbers([1] * n_atoms)\n",
    "    structure.set_chemical_symbols(['H'] * n_atoms)\n",
    "    return structure\n",
    "\n",
    "def scale(structure, per='site'):\n",
    "    if per == 'site':\n",
    "        n_atoms = len(structure.positions)\n",
    "    elif per == 'cell':\n",
    "        n_atoms = 1  # scaling volume to 1/cell is the same as having 1 atom\n",
    "    else:\n",
    "        return ExitCode(400, '{} is not a valid `per` for scaling'.format(per))\n",
    "    cell_volume = np.dot(np.cross(structure.cell[0], structure.cell[1]), structure.cell[2])\n",
    "    new_cell = structure.get_cell() / np.cbrt(cell_volume / n_atoms)\n",
    "    structure.set_cell(new_cell)\n",
    "    new_pos = structure.get_positions() / \\\n",
    "        np.linalg.norm(structure.get_cell(), axis=1) * \\\n",
    "        np.linalg.norm(new_cell, axis=1)\n",
    "    structure.set_positions(new_pos)\n",
    "    return structure"
   ]
  },
  {
   "cell_type": "code",
   "execution_count": 3,
   "metadata": {},
   "outputs": [
    {
     "name": "stderr",
     "output_type": "stream",
     "text": [
      "/usr/local/miniconda3/envs/aiida/lib/python2.7/site-packages/pymatgen/ext/matproj.py:111: UserWarning: If you query for structure data encoded using MP's Structure Notation Language (SNL) format and you use `mp_decode=True` (the default) for MPRester queries, you should install dependencies via `pip install pymatgen[matproj.snl]`.\n",
      "  warnings.warn(\"If you query for structure data encoded using MP's \"\n"
     ]
    }
   ],
   "source": [
    "structures = {}\n",
    "with MPRester('0WqdPfXxloze6T9N') as mpr:\n",
    "    structures['diamond'] = mpr.get_structure_by_material_id(\"mp-66\")\n",
    "    structures['gaas'] = mpr.get_structure_by_material_id(\"mp-2534\")\n",
    "    structures['rocksalt'] = mpr.get_structure_by_material_id(\"mp-22862\")\n",
    "    structures['perovskite'] = mpr.get_structure_by_material_id(\"mp-5827\")\n",
    "    structures['zincblende'] = mpr.get_structure_by_material_id(\"mp-10695\")\n",
    "    structures['wurtzite'] = mpr.get_structure_by_material_id(\"mp-561258\")\n",
    "    structures['fcc'] = mpr.get_structure_by_material_id(\"mp-30\")\n",
    "    structures['big_fcc'] = mpr.get_structure_by_material_id(\"mp-12628\")\n",
    "    structures['bcc'] = mpr.get_structure_by_material_id(\"mp-13\")\n",
    "    structures['triclinic'] = mpr.get_structure_by_material_id(\"mp-9481\")\n",
    "atoms = {name: AseAtomsAdaptor.get_atoms(structure) for name, structure in structures.iteritems()}\n",
    "spkitMax = {1: max([len(structure.sites) for structure in structures.values()])}"
   ]
  },
  {
   "cell_type": "code",
   "execution_count": 4,
   "metadata": {},
   "outputs": [],
   "source": [
    "atoms = {name: scale(anonymize(atom)) for name, atom in atoms.iteritems()}"
   ]
  },
  {
   "cell_type": "code",
   "execution_count": 5,
   "metadata": {},
   "outputs": [],
   "source": [
    "atom_dicts = {name: atoms_utils.as_dict(atom) for name, atom in atoms.iteritems()}"
   ]
  },
  {
   "cell_type": "code",
   "execution_count": 12,
   "metadata": {},
   "outputs": [],
   "source": [
    "payload = {'atoms': json.dumps(atom_dicts.values()), 'nocenters': None,\n",
    "           'gaussian_width': 0.5, 'cutoff': 3.5,\n",
    "           'cutoff_transition_width': 0.5, 'nmax': 8,\n",
    "           'lmax': 6}\n",
    "# r = requests.get('http://127.0.0.1:8899/v1/get_Soaps/', params=payload)\n",
    "r = requests.get('http://127.0.0.1:5000/v1/fingerprints/soaps/', params=payload)\n",
    "results = r.json()"
   ]
  },
  {
   "cell_type": "code",
   "execution_count": 6,
   "metadata": {},
   "outputs": [],
   "source": [
    "soaps = {}\n",
    "for name, atom_dict in atom_dicts.iteritems():\n",
    "    payload = {'atoms': json.dumps(atom_dict),\n",
    "               'spkitMax': json.dumps(spkitMax), 'nocenters': None,\n",
    "               'gaussian_width': 0.5, 'cutoff': 3.5,\n",
    "               'cutoff_transition_width': 0.5, 'nmax': 8,\n",
    "               'lmax': 6}\n",
    "    # r = requests.get('http://127.0.0.1:8899/v1/get_soap/', params=payload)\n",
    "    # r = requests.get('http://127.0.0.1:5000/v1/fingerprints/soap/', params=payload)\n",
    "    soaps[name] = r.json()"
   ]
  },
  {
   "cell_type": "code",
   "execution_count": null,
   "metadata": {},
   "outputs": [],
   "source": []
  }
 ],
 "metadata": {
  "kernelspec": {
   "display_name": "Python 2",
   "language": "python",
   "name": "python2"
  },
  "language_info": {
   "codemirror_mode": {
    "name": "ipython",
    "version": 2
   },
   "file_extension": ".py",
   "mimetype": "text/x-python",
   "name": "python",
   "nbconvert_exporter": "python",
   "pygments_lexer": "ipython2",
   "version": "2.7.15"
  }
 },
 "nbformat": 4,
 "nbformat_minor": 2
}
